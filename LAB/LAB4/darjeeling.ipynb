{
 "cells": [
  {
   "cell_type": "code",
   "execution_count": 56,
   "metadata": {},
   "outputs": [
    {
     "name": "stdout",
     "output_type": "stream",
     "text": [
      "Requirement already satisfied: torchinfo in c:\\users\\leami\\anaconda3\\lib\\site-packages (1.8.0)\n"
     ]
    },
    {
     "name": "stderr",
     "output_type": "stream",
     "text": [
      "\n",
      "[notice] A new release of pip is available: 25.0 -> 25.0.1\n",
      "[notice] To update, run: python.exe -m pip install --upgrade pip\n"
     ]
    }
   ],
   "source": [
    "!pip install torchinfo"
   ]
  },
  {
   "cell_type": "code",
   "execution_count": 57,
   "metadata": {},
   "outputs": [
    {
     "name": "stdout",
     "output_type": "stream",
     "text": [
      "Modèle chargé en half precision !\n",
      "Nombre total de paramètres: 11,173,962\n",
      "Nombre total d'opérations (FLOPs): 1,110,864,660\n",
      "Score calculé: 1.1340\n"
     ]
    }
   ],
   "source": [
    "import torch\n",
    "import sys\n",
    "import os\n",
    "from torchinfo import summary\n",
    "\n",
    "# Ajouter le chemin pour importer ResNet18\n",
    "sys.path.append(os.path.abspath(\"../LAB1\"))\n",
    "from resnet import ResNet18\n",
    "\n",
    "def calculate_score(structured_pruning=0.2, global_pruning=0.2, is_half_precision=True):\n",
    "    # Créer le modèle\n",
    "    device = torch.device('cuda' if torch.cuda.is_available() else 'cpu')\n",
    "    model = ResNet18().to(device)\n",
    "    #checkpoint = torch.load(\"./pruned_model.pth\", map_location=device)\n",
    "    #model.load_state_dict(checkpoint, strict=False) \n",
    "    print(\"Modèle chargé en half precision !\")\n",
    "    \n",
    "    # Afficher les statistiques du modèle\n",
    "    stats = summary(model, (1, 3, 32, 32), verbose=0)\n",
    "    \n",
    "    total_params = stats.total_params\n",
    "    total_macs = stats.total_mult_adds  # Nombre d'opérations MAC (approximation des FLOPs)\n",
    "    \n",
    "    # Convertir MAC en FLOPs (environ 2 FLOPs par MAC)\n",
    "    total_flops = total_macs * 2\n",
    "    \n",
    "    # Calculer le score\n",
    "    p_s = structured_pruning\n",
    "    p_u = global_pruning\n",
    "    q_w = 16 if is_half_precision else 32  # 16 bits pour half precision, 32 pour full\n",
    "    \n",
    "    # On suppose q_a = 32 bits pour les activations\n",
    "    max_q = max(q_w, 16)\n",
    "    \n",
    "    w = total_params\n",
    "    f = total_flops\n",
    "    \n",
    "    param_term = (1 - (p_s + p_u)) * (q_w/32) * w / (5.6e6)\n",
    "    ops_term = (1 - p_s) * (max_q/32) * f / (8.3e8)\n",
    "    \n",
    "    score = param_term + ops_term\n",
    "    \n",
    "    print(f\"Nombre total de paramètres: {total_params:,}\")\n",
    "    print(f\"Nombre total d'opérations (FLOPs): {total_flops:,}\")\n",
    "    print(f\"Score calculé: {score:.4f}\")\n",
    "    \n",
    "    return score\n",
    "\n",
    "# Calculer le score avec vos paramètres\n",
    "score = calculate_score(structured_pruning=0.2, global_pruning=0.2, is_half_precision=True)"
   ]
  },
  {
   "cell_type": "code",
   "execution_count": 62,
   "metadata": {},
   "outputs": [
    {
     "name": "stdout",
     "output_type": "stream",
     "text": [
      "Nombre total de paramètres: 11,173,962\n",
      "Nombre total d'opérations (FLOPs): 1,110,864,660\n",
      "Score calculé: 0.9685\n"
     ]
    }
   ],
   "source": [
    "score = calculate_score(structured_pruning=0.0, global_pruning=0.7, is_half_precision=True)\n"
   ]
  },
  {
   "cell_type": "code",
   "execution_count": 63,
   "metadata": {},
   "outputs": [
    {
     "name": "stdout",
     "output_type": "stream",
     "text": [
      "Nombre total de paramètres: 11,173,962\n",
      "Nombre total d'opérations (FLOPs): 1,110,864,660\n",
      "Score calculé: 0.9673\n"
     ]
    }
   ],
   "source": [
    "score = calculate_score(structured_pruning=0.3, global_pruning=0.2, is_half_precision=True)"
   ]
  },
  {
   "cell_type": "code",
   "execution_count": 64,
   "metadata": {},
   "outputs": [
    {
     "name": "stdout",
     "output_type": "stream",
     "text": [
      "Nombre total de paramètres: 11,173,962\n",
      "Nombre total d'opérations (FLOPs): 1,110,864,660\n",
      "Score calculé: 0.3346\n"
     ]
    }
   ],
   "source": [
    "score = calculate_score(structured_pruning=0.5, global_pruning=0.5, is_half_precision=True) "
   ]
  },
  {
   "cell_type": "code",
   "execution_count": null,
   "metadata": {},
   "outputs": [],
   "source": [
    "score"
   ]
  },
  {
   "cell_type": "markdown",
   "metadata": {},
   "source": [
    "Modele de base"
   ]
  },
  {
   "cell_type": "code",
   "execution_count": 60,
   "metadata": {},
   "outputs": [
    {
     "name": "stdout",
     "output_type": "stream",
     "text": [
      "Nombre total de paramètres: 11,173,962\n",
      "Nombre total d'opérations (FLOPs): 1,110,864,660\n",
      "Score calculé: 3.3337\n"
     ]
    }
   ],
   "source": [
    "import torch\n",
    "import sys\n",
    "import os\n",
    "from torchinfo import summary\n",
    "\n",
    "# Ajouter le chemin pour importer ResNet18\n",
    "sys.path.append(os.path.abspath(\"../LAB1\"))\n",
    "from resnet import ResNet18\n",
    "\n",
    "def calculate_score(structured_pruning=0.2, global_pruning=0.2, is_half_precision=True):\n",
    "    # Créer le modèle\n",
    "    device = torch.device('cuda' if torch.cuda.is_available() else 'cpu')\n",
    "    model = ResNet18().to(device)\n",
    "    \n",
    "    # Afficher les statistiques du modèle\n",
    "    stats = summary(model, (1, 3, 32, 32), verbose=0)\n",
    "    \n",
    "    total_params = stats.total_params\n",
    "    total_macs = stats.total_mult_adds  # Nombre d'opérations MAC (approximation des FLOPs)\n",
    "    \n",
    "    # Convertir MAC en FLOPs (environ 2 FLOPs par MAC)\n",
    "    total_flops = total_macs * 2\n",
    "    \n",
    "    # Calculer le score\n",
    "    p_s = structured_pruning\n",
    "    p_u = global_pruning\n",
    "    q_w = 16 if is_half_precision else 32  # 16 bits pour half precision, 32 pour full\n",
    "    \n",
    "    # On suppose q_a = 32 bits pour les activations\n",
    "    max_q = max(q_w, 16 if is_half_precision else 32 )\n",
    "    \n",
    "    w = total_params\n",
    "    f = total_flops\n",
    "    \n",
    "    param_term = (1 - (p_s + p_u)) * (q_w/32) * w / (5.6e6)\n",
    "    ops_term = (1 - p_s) * (max_q/32) * f / (8.3e8)\n",
    "    \n",
    "    score = param_term + ops_term\n",
    "    \n",
    "    print(f\"Nombre total de paramètres: {total_params:,}\")\n",
    "    print(f\"Nombre total d'opérations (FLOPs): {total_flops:,}\")\n",
    "    print(f\"Score calculé: {score:.4f}\")\n",
    "    \n",
    "    return score\n",
    "\n",
    "# Calculer le score avec vos paramètres\n",
    "score = calculate_score(structured_pruning=0, global_pruning=0, is_half_precision=False)"
   ]
  }
 ],
 "metadata": {
  "kernelspec": {
   "display_name": "base",
   "language": "python",
   "name": "python3"
  },
  "language_info": {
   "codemirror_mode": {
    "name": "ipython",
    "version": 3
   },
   "file_extension": ".py",
   "mimetype": "text/x-python",
   "name": "python",
   "nbconvert_exporter": "python",
   "pygments_lexer": "ipython3",
   "version": "3.12.7"
  }
 },
 "nbformat": 4,
 "nbformat_minor": 2
}

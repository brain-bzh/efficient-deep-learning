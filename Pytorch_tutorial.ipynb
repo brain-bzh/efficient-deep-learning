{
  "cells": [
    {
      "source": [
        "___________________________________________________________________________________________________________\n",
        "# Introduction to Pytorch \n",
        "### (based on the [60 min blitz Deep Learning with Pytorch] (https://pytorch.org/tutorials/beginner/deep_learning_60min_blitz.html) )\n",
        "\n",
        "## 1. Tensors\n",
        "## 2. A Gentle Introduction to ``torch.autograd``\n",
        "## 3. Neural Networks\n",
        "## 4. Train a Classifier\n",
        "\n",
        "_____________________________________________________________________________________________________\n",
        "\n",
        "PyTorch is a Python-based scientific computing package serving two broad purposes:\n",
        "\n",
        "- A replacement for NumPy to use the power of GPUs and other accelerators.\n",
        "- An automatic differentiation library that is useful to implement neural networks.\n",
        "\n",
        "Goal of this tutorial:\n",
        "\n",
        " - Understand PyTorch’s Tensor library and neural networks at a high level.\n",
        " - Train a small neural network to classify images\n",
        "\n",
        "### NOTE:\n",
        "The 4 sessions can be run independently, so if you feel confident with the first sessions you can quickly cover them. However, for the last session *4. Train a Classifier* you are expected to complete some empty cells to successfully train and test your `net`. \n",
        "_____________________________________________________________________________________________________"
      ],
      "cell_type": "markdown",
      "metadata": {}
    },
    {
      "source": [
        "# 1. Tensors\n",
        "--------------------------------------------\n",
        "\n",
        "Tensors are a specialized data structure that are very similar to arrays\n",
        "and matrices. In PyTorch, we use tensors to encode the inputs and\n",
        "outputs of a model, as well as the model’s parameters.\n",
        "\n",
        "Tensors are similar to NumPy’s ndarrays, except that tensors can run on\n",
        "GPUs or other specialized hardware to accelerate computing. If you’re familiar with ndarrays, you’ll\n",
        "be right at home with the Tensor API. If not, follow along in this quick\n",
        "API walkthrough.\n"
      ],
      "cell_type": "markdown",
      "metadata": {}
    },
    {
      "cell_type": "code",
      "execution_count": 2,
      "metadata": {
        "collapsed": false
      },
      "outputs": [],
      "source": [
        "import torch\n",
        "import numpy as np"
      ]
    },
    {
      "cell_type": "markdown",
      "metadata": {},
      "source": [
        "### Tensor Initialization\n",
        "\n",
        "\n",
        "Tensors can be initialized in various ways. Take a look at the following examples:\n",
        "\n",
        "**Directly from data**\n",
        "\n",
        "Tensors can be created directly from data. The data type is automatically inferred.\n",
        "\n"
      ]
    },
    {
      "cell_type": "code",
      "execution_count": 3,
      "metadata": {
        "collapsed": false
      },
      "outputs": [],
      "source": [
        "data = [[1, 2],[3, 4]]\n",
        "x_data = torch.tensor(data)"
      ]
    },
    {
      "cell_type": "markdown",
      "metadata": {},
      "source": [
        "**From a NumPy array**\n",
        "\n",
        "Tensors can be created from NumPy arrays (and vice versa - see *bridge-to-np-label*).\n",
        "\n"
      ]
    },
    {
      "cell_type": "code",
      "execution_count": 4,
      "metadata": {
        "collapsed": false
      },
      "outputs": [],
      "source": [
        "np_array = np.array(data)\n",
        "x_np = torch.from_numpy(np_array)"
      ]
    },
    {
      "cell_type": "markdown",
      "metadata": {},
      "source": [
        "**From another tensor:**\n",
        "\n",
        "The new tensor retains the properties (shape, datatype) of the argument tensor, unless explicitly overridden.\n",
        "\n"
      ]
    },
    {
      "cell_type": "code",
      "execution_count": 5,
      "metadata": {
        "collapsed": false
      },
      "outputs": [
        {
          "output_type": "stream",
          "name": "stdout",
          "text": [
            "Ones Tensor: \n tensor([[1, 1],\n        [1, 1]]) \n\nRandom Tensor: \n tensor([[0.8869, 0.6828],\n        [0.2097, 0.7802]]) \n\n"
          ]
        }
      ],
      "source": [
        "x_ones = torch.ones_like(x_data) # retains the properties of x_data\n",
        "print(f\"Ones Tensor: \\n {x_ones} \\n\")\n",
        "\n",
        "x_rand = torch.rand_like(x_data, dtype=torch.float) # overrides the datatype of x_data\n",
        "print(f\"Random Tensor: \\n {x_rand} \\n\")"
      ]
    },
    {
      "cell_type": "markdown",
      "metadata": {},
      "source": [
        "**With random or constant values:**\n",
        "\n",
        "*shape* is a tuple of tensor dimensions. In the functions below, it determines the dimensionality of the output tensor.\n",
        "\n"
      ]
    },
    {
      "cell_type": "code",
      "execution_count": 6,
      "metadata": {
        "collapsed": false
      },
      "outputs": [
        {
          "output_type": "stream",
          "name": "stdout",
          "text": [
            "Random Tensor: \n tensor([[0.0403, 0.5577, 0.1419],\n        [0.8267, 0.6540, 0.5435]]) \n\nOnes Tensor: \n tensor([[1., 1., 1.],\n        [1., 1., 1.]]) \n\nZeros Tensor: \n tensor([[0., 0., 0.],\n        [0., 0., 0.]])\n"
          ]
        }
      ],
      "source": [
        "shape = (2,3,)\n",
        "rand_tensor = torch.rand(shape)\n",
        "ones_tensor = torch.ones(shape)\n",
        "zeros_tensor = torch.zeros(shape)\n",
        "\n",
        "print(f\"Random Tensor: \\n {rand_tensor} \\n\")\n",
        "print(f\"Ones Tensor: \\n {ones_tensor} \\n\")\n",
        "print(f\"Zeros Tensor: \\n {zeros_tensor}\")"
      ]
    },
    {
      "cell_type": "markdown",
      "metadata": {},
      "source": [
        "### Tensor Attributes\n",
        "\n",
        "\n",
        "Tensor attributes describe their shape, datatype, and the device on which they are stored.\n",
        "\n"
      ]
    },
    {
      "cell_type": "code",
      "execution_count": 7,
      "metadata": {
        "collapsed": false
      },
      "outputs": [
        {
          "output_type": "stream",
          "name": "stdout",
          "text": [
            "Shape of tensor: torch.Size([3, 4])\nDatatype of tensor: torch.float32\nDevice tensor is stored on: cpu\n"
          ]
        }
      ],
      "source": [
        "tensor = torch.rand(3,4)\n",
        "\n",
        "print(f\"Shape of tensor: {tensor.shape}\")\n",
        "print(f\"Datatype of tensor: {tensor.dtype}\")\n",
        "print(f\"Device tensor is stored on: {tensor.device}\")"
      ]
    },
    {
      "cell_type": "markdown",
      "metadata": {},
      "source": [
        "### Tensor Operations\n",
        "\n",
        "\n",
        "Over 100 tensor operations, including transposing, indexing, slicing,\n",
        "mathematical operations, linear algebra, random sampling, and more are\n",
        "comprehensively described [here](https://pytorch.org/docs/stable/torch.html).\n",
        "\n",
        "Try out some of the operations from the list.\n",
        "If you're familiar with the NumPy API, you'll find the Tensor API a breeze to use.\n",
        "\n"
      ]
    },
    {
      "cell_type": "markdown",
      "metadata": {},
      "source": [
        "**Standard numpy-like indexing and slicing:**\n",
        "\n"
      ]
    },
    {
      "cell_type": "code",
      "execution_count": 9,
      "metadata": {
        "collapsed": false
      },
      "outputs": [
        {
          "output_type": "stream",
          "name": "stdout",
          "text": [
            "tensor([[1., 0., 1., 1.],\n        [1., 0., 1., 1.],\n        [1., 0., 1., 1.],\n        [1., 0., 1., 1.]])\n"
          ]
        }
      ],
      "source": [
        "tensor = torch.ones(4, 4)\n",
        "tensor[:,1] = 0\n",
        "print(tensor)"
      ]
    },
    {
      "cell_type": "markdown",
      "metadata": {},
      "source": [
        "**Joining tensors** You can use *torch.cat* to concatenate a sequence of tensors along a given dimension.\n",
        "See also [torch.stack] (https://pytorch.org/docs/stable/generated/torch.stack.html),\n",
        "another tensor joining operation that is subtly different from *torch.cat*.\n",
        "\n"
      ]
    },
    {
      "cell_type": "code",
      "execution_count": 10,
      "metadata": {
        "collapsed": false
      },
      "outputs": [
        {
          "output_type": "stream",
          "name": "stdout",
          "text": [
            "tensor([[1., 0., 1., 1., 1., 0., 1., 1., 1., 0., 1., 1.],\n        [1., 0., 1., 1., 1., 0., 1., 1., 1., 0., 1., 1.],\n        [1., 0., 1., 1., 1., 0., 1., 1., 1., 0., 1., 1.],\n        [1., 0., 1., 1., 1., 0., 1., 1., 1., 0., 1., 1.]])\n"
          ]
        }
      ],
      "source": [
        "t1 = torch.cat([tensor, tensor, tensor], dim=1)\n",
        "print(t1)"
      ]
    },
    {
      "cell_type": "markdown",
      "metadata": {},
      "source": [
        "**Multiplying tensors**\n",
        "\n"
      ]
    },
    {
      "cell_type": "code",
      "execution_count": 11,
      "metadata": {
        "collapsed": false
      },
      "outputs": [
        {
          "output_type": "stream",
          "name": "stdout",
          "text": [
            "tensor.mul(tensor) \n tensor([[1., 0., 1., 1.],\n        [1., 0., 1., 1.],\n        [1., 0., 1., 1.],\n        [1., 0., 1., 1.]]) \n\ntensor * tensor \n tensor([[1., 0., 1., 1.],\n        [1., 0., 1., 1.],\n        [1., 0., 1., 1.],\n        [1., 0., 1., 1.]])\n"
          ]
        }
      ],
      "source": [
        "# This computes the element-wise product\n",
        "print(f\"tensor.mul(tensor) \\n {tensor.mul(tensor)} \\n\")\n",
        "# Alternative syntax:\n",
        "print(f\"tensor * tensor \\n {tensor * tensor}\")"
      ]
    },
    {
      "cell_type": "markdown",
      "metadata": {},
      "source": [
        "This computes the matrix multiplication between two tensors\n",
        "\n"
      ]
    },
    {
      "cell_type": "code",
      "execution_count": 12,
      "metadata": {
        "collapsed": false
      },
      "outputs": [
        {
          "output_type": "stream",
          "name": "stdout",
          "text": [
            "tensor.matmul(tensor.T) \n tensor([[3., 3., 3., 3.],\n        [3., 3., 3., 3.],\n        [3., 3., 3., 3.],\n        [3., 3., 3., 3.]]) \n\ntensor @ tensor.T \n tensor([[3., 3., 3., 3.],\n        [3., 3., 3., 3.],\n        [3., 3., 3., 3.],\n        [3., 3., 3., 3.]])\n"
          ]
        }
      ],
      "source": [
        "print(f\"tensor.matmul(tensor.T) \\n {tensor.matmul(tensor.T)} \\n\")\n",
        "# Alternative syntax:\n",
        "print(f\"tensor @ tensor.T \\n {tensor @ tensor.T}\")"
      ]
    },
    {
      "cell_type": "markdown",
      "metadata": {},
      "source": [
        "**In-place operations**\n",
        "Operations that have a `_` suffix are in-place. For example: `x.copy_(y)`, ``x.t_()``, will change ``x``.\n",
        "\n"
      ]
    },
    {
      "cell_type": "code",
      "execution_count": 13,
      "metadata": {
        "collapsed": false
      },
      "outputs": [
        {
          "output_type": "stream",
          "name": "stdout",
          "text": [
            "tensor([[1., 0., 1., 1.],\n        [1., 0., 1., 1.],\n        [1., 0., 1., 1.],\n        [1., 0., 1., 1.]]) \n\ntensor([[6., 5., 6., 6.],\n        [6., 5., 6., 6.],\n        [6., 5., 6., 6.],\n        [6., 5., 6., 6.]])\n"
          ]
        }
      ],
      "source": [
        "print(tensor, \"\\n\")\n",
        "tensor.add_(5)\n",
        "print(tensor)"
      ]
    },
    {
      "cell_type": "markdown",
      "metadata": {},
      "source": [
        "### NOTE\n",
        "\n",
        "n-place operations save some memory, but can be problematic when computing derivatives because of an immediate loss\n",
        "     of history. Hence, their use is discouraged.</p></div>\n",
        "\n"
      ]
    },
    {
      "cell_type": "markdown",
      "metadata": {},
      "source": [
        "**Bridge to NumPy**\n",
        "\n",
        "Tensor to NumPy array\n",
        "\n",
        "\n"
      ]
    },
    {
      "cell_type": "code",
      "execution_count": 14,
      "metadata": {
        "collapsed": false
      },
      "outputs": [
        {
          "output_type": "stream",
          "name": "stdout",
          "text": [
            "t: tensor([1., 1., 1., 1., 1.])\nn: [1. 1. 1. 1. 1.]\n"
          ]
        }
      ],
      "source": [
        "t = torch.ones(5)\n",
        "print(f\"t: {t}\")\n",
        "n = t.numpy()\n",
        "print(f\"n: {n}\")"
      ]
    },
    {
      "cell_type": "markdown",
      "metadata": {},
      "source": [
        "A change in the tensor reflects in the NumPy array.\n",
        "\n"
      ]
    },
    {
      "cell_type": "code",
      "execution_count": 15,
      "metadata": {
        "collapsed": false
      },
      "outputs": [
        {
          "output_type": "stream",
          "name": "stdout",
          "text": [
            "t: tensor([2., 2., 2., 2., 2.])\nn: [2. 2. 2. 2. 2.]\n"
          ]
        }
      ],
      "source": [
        "t.add_(1)\n",
        "print(f\"t: {t}\")\n",
        "print(f\"n: {n}\")"
      ]
    },
    {
      "cell_type": "markdown",
      "metadata": {},
      "source": [
        "NumPy array to Tensor\n",
        "\n"
      ]
    },
    {
      "cell_type": "code",
      "execution_count": 16,
      "metadata": {
        "collapsed": false
      },
      "outputs": [],
      "source": [
        "n = np.ones(5)\n",
        "t = torch.from_numpy(n)"
      ]
    },
    {
      "cell_type": "markdown",
      "metadata": {},
      "source": [
        "Changes in the NumPy array reflects in the tensor.\n",
        "\n"
      ]
    },
    {
      "cell_type": "code",
      "execution_count": 17,
      "metadata": {
        "collapsed": false
      },
      "outputs": [
        {
          "output_type": "stream",
          "name": "stdout",
          "text": [
            "t: tensor([2., 2., 2., 2., 2.], dtype=torch.float64)\nn: [2. 2. 2. 2. 2.]\n"
          ]
        }
      ],
      "source": [
        "np.add(n, 1, out=n)\n",
        "print(f\"t: {t}\")\n",
        "print(f\"n: {n}\")"
      ]
    },
    {
      "cell_type": "code",
      "execution_count": null,
      "metadata": {},
      "outputs": [],
      "source": []
    },
    {
      "source": [
        "\n",
        "# 2. A Gentle Introduction to ``torch.autograd``\n",
        "---------------------------------\n",
        "\n",
        "``torch.autograd`` is PyTorch’s automatic differentiation engine that powers\n",
        "neural network training. In this section, you will get a conceptual\n",
        "understanding of how autograd helps a neural network train.\n",
        "\n",
        "### Background\n",
        "\n",
        "Neural networks (NNs) are a collection of nested functions that are\n",
        "executed on some input data. These functions are defined by *parameters*\n",
        "(consisting of weights and biases), which in PyTorch are stored in\n",
        "tensors.\n",
        "\n",
        "Training a NN happens in two steps:\n",
        "\n",
        "**Forward Propagation**: In forward prop, the NN makes its best guess\n",
        "about the correct output. It runs the input data through each of its\n",
        "functions to make this guess.\n",
        "\n",
        "**Backward Propagation**: In backprop, the NN adjusts its parameters\n",
        "proportionate to the error in its guess. It does this by traversing\n",
        "backwards from the output, collecting the derivatives of the error with\n",
        "respect to the parameters of the functions (*gradients*), and optimizing\n",
        "the parameters using gradient descent. For a more detailed walkthrough\n",
        "of backprop, check out this [video from\n",
        "3Blue1Brown] (https://www.youtube.com/watch?v=tIeHLnjs5U8).\n",
        "\n",
        "\n",
        "\n",
        "\n",
        "### Usage in PyTorch\n",
        "\n",
        "Let's take a look at a single training step.\n",
        "For this example, we load a pretrained resnet18 model from ``torchvision``.\n",
        "We create a random data tensor to represent a single image with 3 channels, and height & width of 64,\n",
        "and its corresponding ``label`` initialized to some random values.\n",
        "\n"
      ],
      "cell_type": "markdown",
      "metadata": {}
    },
    {
      "cell_type": "code",
      "execution_count": 11,
      "metadata": {},
      "outputs": [],
      "source": [
        "import torch, torchvision\n",
        "model = torchvision.models.resnet18(pretrained=True)\n",
        "data = torch.rand(1, 3, 64, 64)\n",
        "labels = torch.rand(1, 1000)"
      ]
    },
    {
      "source": [
        "Next, we run the input data through the model through each of its layers to make a prediction.\n",
        "This is the **forward pass**.\n"
      ],
      "cell_type": "markdown",
      "metadata": {}
    },
    {
      "cell_type": "code",
      "execution_count": 12,
      "metadata": {},
      "outputs": [],
      "source": [
        "prediction = model(data) # forward pass"
      ]
    },
    {
      "source": [
        "We use the model's prediction and the corresponding label to calculate the error (*loss*).\n",
        "The next step is to backpropagate this error through the network.\n",
        "Backward propagation is kicked off when we call ``.backward()`` on the error tensor.\n",
        "Autograd then calculates and stores the gradients for each model parameter in the parameter's ``.grad`` attribute.\n"
      ],
      "cell_type": "markdown",
      "metadata": {}
    },
    {
      "cell_type": "code",
      "execution_count": 13,
      "metadata": {},
      "outputs": [],
      "source": [
        "loss = (prediction - labels).sum()\n",
        "loss.backward() # backward pass"
      ]
    },
    {
      "source": [
        "Next, we load an optimizer, in this case stochastic gradient descent **SGD** with a learning rate of 0.01 and momentum of 0.9.\n",
        "We register all the parameters of the model in the optimizer.\n",
        "\n",
        "Finally, we call ``.step()`` to initiate gradient descent. The optimizer adjusts each parameter by its gradient stored in ``.grad``.\n",
        "\n"
      ],
      "cell_type": "markdown",
      "metadata": {}
    },
    {
      "cell_type": "code",
      "execution_count": 14,
      "metadata": {},
      "outputs": [],
      "source": [
        "optim = torch.optim.SGD(model.parameters(), lr=1e-2, momentum=0.9)\n",
        "optim.step() #gradient descent"
      ]
    },
    {
      "source": [
        "## Differentiation in Autograd\n",
        "\n",
        "Let's take a look at how ``autograd`` collects gradients. We create two tensors ``a`` and ``b`` with\n",
        "``requires_grad=True``. This signals to ``autograd`` that every operation on them should be tracked.\n",
        "\n",
        "\n"
      ],
      "cell_type": "markdown",
      "metadata": {}
    },
    {
      "cell_type": "code",
      "execution_count": 15,
      "metadata": {},
      "outputs": [],
      "source": [
        "import torch\n",
        "\n",
        "a = torch.tensor([2., 3.], requires_grad=True)\n",
        "b = torch.tensor([6., 4.], requires_grad=True)"
      ]
    },
    {
      "source": [
        "We create another tensor ``Q`` from ``a`` and ``b``.\n",
        "\n",
        "\\begin{align}Q = 3a^3 - b^2\\end{align}\n"
      ],
      "cell_type": "markdown",
      "metadata": {}
    },
    {
      "cell_type": "code",
      "execution_count": 16,
      "metadata": {},
      "outputs": [],
      "source": [
        "Q = 3*a**3 - b**2"
      ]
    },
    {
      "source": [
        "Let's assume ``a`` and ``b`` to be parameters of an NN, and ``Q``\n",
        "to be the error. In NN training, we want gradients of the error\n",
        "w.r.t. parameters, i.e.\n",
        "\n",
        "\\begin{align}\\frac{\\partial Q}{\\partial a} = 9a^2\\end{align}\n",
        "\n",
        "\\begin{align}\\frac{\\partial Q}{\\partial b} = -2b\\end{align}\n",
        "\n",
        "\n",
        "When we call ``.backward()`` on ``Q``, autograd calculates these gradients\n",
        "and stores them in the respective tensors' ``.grad`` attribute.\n",
        "\n",
        "We need to explicitly pass a ``gradient`` argument in ``Q.backward()`` because it is a vector.\n",
        "``gradient`` is a tensor of the same shape as ``Q``, and it represents the\n",
        "gradient of Q w.r.t. itself, i.e.\n",
        "\n",
        "\\begin{align}\\frac{dQ}{dQ} = 1\\end{align}\n",
        "\n"
      ],
      "cell_type": "markdown",
      "metadata": {}
    },
    {
      "cell_type": "code",
      "execution_count": 17,
      "metadata": {},
      "outputs": [
        {
          "output_type": "stream",
          "name": "stdout",
          "text": [
            "tensor([True, True])\ntensor([True, True])\n"
          ]
        }
      ],
      "source": [
        "external_grad = torch.tensor([1., 1.])\n",
        "\n",
        "Q.backward(gradient=external_grad)\n",
        "# Gradients are now deposited in ``a.grad`` and ``b.grad``\n",
        "\n",
        "# check if collected gradients are correct\n",
        "print(9*a**2 == a.grad)\n",
        "print(-2*b == b.grad)"
      ]
    },
    {
      "source": [
        "## Computational Graph\n",
        "\n",
        "\n",
        "Conceptually, autograd keeps a record of data (tensors) & all executed\n",
        "operations (along with the resulting new tensors) in a directed acyclic\n",
        "graph (DAG) consisting of [Function] (https://pytorch.org/docs/stable/autograd.html#torch.autograd.Function)\n",
        "objects. In this DAG, leaves are the input tensors, roots are the output\n",
        "tensors. By tracing this graph from roots to leaves, you can\n",
        "automatically compute the gradients using the chain rule.\n",
        "\n",
        "In a forward pass, autograd does two things simultaneously:\n",
        "\n",
        "- run the requested operation to compute a resulting tensor, and\n",
        "- maintain the operation’s *gradient function* in the DAG.\n",
        "\n",
        "The backward pass kicks off when ``.backward()`` is called on the DAG\n",
        "root. ``autograd`` then:\n",
        "\n",
        "- computes the gradients from each ``.grad_fn``,\n",
        "- accumulates them in the respective tensor’s ``.grad`` attribute, and\n",
        "- using the chain rule, propagates all the way to the leaf tensors.\n",
        "\n",
        "\n",
        "** NOTE: DAGs are dynamic in PyTorch**\n",
        "  An important thing to note is that the graph is recreated from scratch; after each\n",
        "  ``.backward()`` call, autograd starts populating a new graph. This is\n",
        "  exactly what allows you to use control flow statements in your model;\n",
        "  you can change the shape, size and operations at every iteration if\n",
        "  needed.</p></div>\n",
        "\n",
        "\n",
        "### Exclusion from the DAG\n",
        "\n",
        "\n",
        "``torch.autograd`` tracks operations on all tensors which have their\n",
        "``requires_grad`` flag set to ``True``. For tensors that don’t require\n",
        "gradients, setting this attribute to ``False`` excludes it from the\n",
        "gradient computation DAG.\n",
        "\n",
        "The output tensor of an operation will require gradients even if only a\n",
        "single input tensor has ``requires_grad=True``."
      ],
      "cell_type": "markdown",
      "metadata": {}
    },
    {
      "cell_type": "code",
      "execution_count": 18,
      "metadata": {},
      "outputs": [
        {
          "output_type": "stream",
          "name": "stdout",
          "text": [
            "Does `a` require gradients? : False\nDoes `b` require gradients?: True\n"
          ]
        }
      ],
      "source": [
        "x = torch.rand(5, 5)\n",
        "y = torch.rand(5, 5)\n",
        "z = torch.rand((5, 5), requires_grad=True)\n",
        "\n",
        "a = x + y\n",
        "print(f\"Does `a` require gradients? : {a.requires_grad}\")\n",
        "b = x + z\n",
        "print(f\"Does `b` require gradients?: {b.requires_grad}\")"
      ]
    },
    {
      "source": [
        "In a NN, parameters that don't compute gradients are usually called **frozen parameters**.\n",
        "It is useful to \"freeze\" part of your model if you know in advance that you won't need the gradients of those parameters\n",
        "(this offers some performance benefits by reducing autograd computations).\n",
        "\n",
        "Another common usecase where exclusion from the DAG is important is for transfer learning (see\n",
        "[finetuning a pretrained network](https://pytorch.org/tutorials/beginner/finetuning_torchvision_models_tutorial.html))\n",
        "\n",
        "In transfer learning, we freeze most of the model and typically only modify the classifier layers (last fully connected layers) to make predictions on new labels.\n",
        "Let's walk through a small example to demonstrate this. As before, we load a pretrained resnet18 model, and freeze all the parameters."
      ],
      "cell_type": "markdown",
      "metadata": {}
    },
    {
      "cell_type": "code",
      "execution_count": 19,
      "metadata": {},
      "outputs": [],
      "source": [
        "from torch import nn, optim\n",
        "\n",
        "model = torchvision.models.resnet18(pretrained=True)\n",
        "\n",
        "# Freeze all the parameters in the network\n",
        "for param in model.parameters():\n",
        "    param.requires_grad = False"
      ]
    },
    {
      "source": [
        "Let's say we want to finetune the model on a new dataset with 10 labels.\n",
        "In resnet, the classifier is the last linear layer ``model.fc``.\n",
        "We can simply replace it with a new linear layer (unfrozen by default)\n",
        "that acts as our classifier.\n",
        "\n"
      ],
      "cell_type": "markdown",
      "metadata": {}
    },
    {
      "cell_type": "code",
      "execution_count": 20,
      "metadata": {},
      "outputs": [],
      "source": [
        "model.fc = nn.Linear(512, 10)"
      ]
    },
    {
      "source": [
        "Now all parameters in the model, except the parameters of ``model.fc``, are frozen.\n",
        "The only parameters that compute gradients are the weights and bias of ``model.fc``.\n",
        "This means also that during traininig, the only parameters that are computing gradients (and hence updated in gradient descent)\n",
        "are the weights and bias of the classifier (`model.fc`).\n",
        "\n",
        "### NOTE:\n",
        " The same exclusionary functionality is available as a context manager in\n",
        "[`torch.no_grad()`] (https://pytorch.org/docs/stable/generated/torch.no_grad.html), that we will be using for *Transfer Learning*\n",
        "\n"
      ],
      "cell_type": "markdown",
      "metadata": {}
    },
    {
      "source": [
        "# 3. Neural Networks\n",
        "_________________________________________________________________________________\n",
        "\n",
        "Neural networks can be constructed using the ``torch.nn`` package.\n",
        "\n",
        "Now that you had a glimpse of ``autograd``, ``nn`` depends on\n",
        "``autograd`` to define models and differentiate them.\n",
        "An ``nn.Module`` contains layers, and a method ``forward(input)`` that\n",
        "returns the ``output``.\n",
        "\n",
        "A neural network takes the input, feeds it through several layers one after the other, and then finally gives the\n",
        "output.\n",
        "\n",
        "A typical training procedure for a neural network is as follows:\n",
        "\n",
        "- Define the neural network that has some learnable parameters (or\n",
        "  weights)\n",
        "- Iterate over a dataset of inputs\n",
        "- Process input through the network\n",
        "- Compute the loss (how far is the output from being correct)\n",
        "- Propagate gradients back into the network’s parameters\n",
        "- Update the weights of the network, typically using a simple update rule:\n",
        "\n",
        "\\begin{align}weight = weight - learningRate * gradient\\end{align}\n",
        "\n",
        "Define the network\n",
        "------------------\n",
        "\n",
        "Let’s define this network:\n"
      ],
      "cell_type": "markdown",
      "metadata": {}
    },
    {
      "cell_type": "code",
      "execution_count": 21,
      "metadata": {},
      "outputs": [
        {
          "output_type": "stream",
          "name": "stdout",
          "text": [
            "Net(\n  (conv1): Conv2d(1, 6, kernel_size=(3, 3), stride=(1, 1))\n  (conv2): Conv2d(6, 16, kernel_size=(3, 3), stride=(1, 1))\n  (fc1): Linear(in_features=576, out_features=120, bias=True)\n  (fc2): Linear(in_features=120, out_features=84, bias=True)\n  (fc3): Linear(in_features=84, out_features=10, bias=True)\n)\n"
          ]
        }
      ],
      "source": [
        "import torch\n",
        "import torch.nn as nn\n",
        "import torch.nn.functional as F\n",
        "\n",
        "\n",
        "class Net(nn.Module):\n",
        "\n",
        "    def __init__(self):\n",
        "        super(Net, self).__init__()\n",
        "        # 1 input image channel, 6 output channels, 3x3 square convolution\n",
        "        # kernel\n",
        "        self.conv1 = nn.Conv2d(1, 6, 3)\n",
        "        self.conv2 = nn.Conv2d(6, 16, 3)\n",
        "        # an affine operation: y = Wx + b\n",
        "        self.fc1 = nn.Linear(16 * 6 * 6, 120)  # 6*6 from image dimension, 16 for channels\n",
        "        self.fc2 = nn.Linear(120, 84)\n",
        "        self.fc3 = nn.Linear(84, 10)\n",
        "\n",
        "    def forward(self, x):\n",
        "        # Max pooling over a (2, 2) window\n",
        "        x = F.max_pool2d(F.relu(self.conv1(x)), (2, 2))\n",
        "        # If the size is a square you can only specify a single number\n",
        "        x = F.max_pool2d(F.relu(self.conv2(x)), 2)\n",
        "        x = x.view(-1, self.num_flat_features(x))\n",
        "        x = F.relu(self.fc1(x))\n",
        "        x = F.relu(self.fc2(x))\n",
        "        x = self.fc3(x)\n",
        "        return x\n",
        "\n",
        "    def num_flat_features(self, x):\n",
        "        size = x.size()[1:]  # all dimensions except the batch dimension\n",
        "        num_features = 1\n",
        "        for s in size:\n",
        "            num_features *= s\n",
        "        return num_features\n",
        "\n",
        "\n",
        "net = Net()\n",
        "print(net)"
      ]
    },
    {
      "source": [
        "You just have to define the ``forward`` function, and the ``backward``\n",
        "function (where gradients are computed) is automatically defined for you\n",
        "using ``autograd``.\n",
        "You can use any of the Tensor operations in the ``forward`` function.\n",
        "\n",
        "The learnable parameters of a model are returned by ``net.parameters()``"
      ],
      "cell_type": "markdown",
      "metadata": {}
    },
    {
      "cell_type": "code",
      "execution_count": 22,
      "metadata": {},
      "outputs": [
        {
          "output_type": "stream",
          "name": "stdout",
          "text": [
            "10\ntorch.Size([6, 1, 3, 3])\n"
          ]
        }
      ],
      "source": [
        "params = list(net.parameters())\n",
        "print(len(params))\n",
        "print(params[0].size())  # conv1's .weight"
      ]
    },
    {
      "source": [
        "Let's try a random 32x32 input.\n",
        "Note: expected input size of this net (LeNet) is 32x32. To use this net on\n",
        "the MNIST dataset, please resize the images from the dataset to 32x32."
      ],
      "cell_type": "markdown",
      "metadata": {}
    },
    {
      "cell_type": "code",
      "execution_count": 23,
      "metadata": {},
      "outputs": [
        {
          "output_type": "stream",
          "name": "stdout",
          "text": [
            "tensor([[-0.0425,  0.0688,  0.1283, -0.0018,  0.0368, -0.0631, -0.0309, -0.0521,\n          0.0731, -0.0537]], grad_fn=<AddmmBackward>)\n"
          ]
        }
      ],
      "source": [
        "input = torch.randn(1, 1, 32, 32)\n",
        "out = net(input)\n",
        "print(out)"
      ]
    },
    {
      "source": [
        "Zero the gradient buffers of all parameters and backprops with random\n",
        "gradients:"
      ],
      "cell_type": "markdown",
      "metadata": {}
    },
    {
      "cell_type": "code",
      "execution_count": 24,
      "metadata": {},
      "outputs": [],
      "source": [
        "net.zero_grad()\n",
        "out.backward(torch.randn(1, 10))"
      ]
    },
    {
      "source": [
        "### NOTE: \n",
        "`torch.nn` only supports mini-batches. The entire `torch.nn`\n",
        "    package only supports inputs that are a mini-batch of samples, and not\n",
        "    a single sample. \n",
        "    \n",
        "For example, `nn.Conv2d` will take in a 4D Tensor of `nSamples x nChannels x Height x Width`.\n",
        "\n",
        "If you have a single sample, just use `input.unsqueeze(0)` to add a fake batch dimension.\n",
        "    __________________________________________________________________________________________________\n",
        "\n",
        "Before proceeding further, let's recap all the classes you’ve seen so far.\n",
        "\n",
        "**Recap:**\n",
        "  -  ``torch.Tensor`` - A *multi-dimensional array* with support for autograd\n",
        "     operations like ``backward()``. Also *holds the gradient* w.r.t. the\n",
        "     tensor.\n",
        "  -  ``nn.Module`` - Neural network module. *Convenient way of\n",
        "     encapsulating parameters*, with helpers for moving them to GPU,\n",
        "     exporting, loading, etc.\n",
        "  -  ``nn.Parameter`` - A kind of Tensor, that is *automatically\n",
        "     registered as a parameter when assigned as an attribute to a*\n",
        "     ``Module``.\n",
        "  -  ``autograd.Function`` - Implements *forward and backward definitions\n",
        "     of an autograd operation*. Every ``Tensor`` operation creates at\n",
        "     least a single ``Function`` node that connects to functions that\n",
        "     created a ``Tensor`` and *encodes its history*.\n",
        "\n",
        "**At this point, we covered:**\n",
        "  -  Defining a neural network\n",
        "  -  Processing inputs and calling backward\n",
        "\n",
        "**Still Left:**\n",
        "  -  Computing the loss\n",
        "  -  Updating the weights of the network\n",
        "\n",
        "## Loss Function\n",
        "\n",
        "A loss function takes the (output, target) pair of inputs, and computes a\n",
        "value that estimates how far away the output is from the target.\n",
        "\n",
        "There are several different\n",
        "[loss functions] (https://pytorch.org/docs/nn.html#loss-functions)  under the\n",
        "nn package.\n",
        "A simple loss is: ``nn.MSELoss`` which computes the mean-squared error\n",
        "between the input and the target.\n",
        "\n",
        "For example:\n",
        "\n"
      ],
      "cell_type": "markdown",
      "metadata": {}
    },
    {
      "cell_type": "code",
      "execution_count": 25,
      "metadata": {},
      "outputs": [
        {
          "output_type": "stream",
          "name": "stdout",
          "text": [
            "tensor(0.7360, grad_fn=<MseLossBackward>)\n"
          ]
        }
      ],
      "source": [
        "output = net(input)\n",
        "target = torch.randn(10)  # a dummy target, for example\n",
        "target = target.view(1, -1)  # make it the same shape as output\n",
        "criterion = nn.MSELoss()\n",
        "\n",
        "loss = criterion(output, target)\n",
        "print(loss)"
      ]
    },
    {
      "source": [
        "Now, if you follow ``loss`` in the backward direction, using its\n",
        "``.grad_fn`` attribute, you will see a graph of computations that looks\n",
        "like this:\n",
        "\n",
        "::\n",
        "\n",
        "    input -> conv2d -> relu -> maxpool2d -> conv2d -> relu -> maxpool2d\n",
        "          -> view -> linear -> relu -> linear -> relu -> linear\n",
        "          -> MSELoss\n",
        "          -> loss\n",
        "\n",
        "So, when we call ``loss.backward()``, the whole graph is differentiated\n",
        "w.r.t. the loss, and all Tensors in the graph that has ``requires_grad=True``\n",
        "will have their ``.grad`` Tensor accumulated with the gradient.\n",
        "\n",
        "For illustration, let us follow a few steps backward:"
      ],
      "cell_type": "markdown",
      "metadata": {}
    },
    {
      "cell_type": "code",
      "execution_count": 26,
      "metadata": {},
      "outputs": [
        {
          "output_type": "stream",
          "name": "stdout",
          "text": [
            "<MseLossBackward object at 0x7fb772d2e3d0>\n<AddmmBackward object at 0x7fb76ef6cc90>\n<AccumulateGrad object at 0x7fb772d2e3d0>\n"
          ]
        }
      ],
      "source": [
        "print(loss.grad_fn)  # MSELoss\n",
        "print(loss.grad_fn.next_functions[0][0])  # Linear\n",
        "print(loss.grad_fn.next_functions[0][0].next_functions[0][0])  # ReLU"
      ]
    },
    {
      "source": [
        "Backprop\n",
        "--------\n",
        "To backpropagate the error all we have to do is to ``loss.backward()``.\n",
        "You need to clear the existing gradients though, else gradients will be\n",
        "accumulated to existing gradients.\n",
        "\n",
        "\n",
        "Now we shall call ``loss.backward()``, and have a look at conv1's bias\n",
        "gradients before and after the backward.\n"
      ],
      "cell_type": "markdown",
      "metadata": {}
    },
    {
      "cell_type": "code",
      "execution_count": 27,
      "metadata": {},
      "outputs": [
        {
          "output_type": "stream",
          "name": "stdout",
          "text": [
            "conv1.bias.grad before backward\ntensor([0., 0., 0., 0., 0., 0.])\nconv1.bias.grad after backward\ntensor([ 0.0278,  0.0115,  0.0097, -0.0079, -0.0034, -0.0042])\n"
          ]
        }
      ],
      "source": [
        "net.zero_grad()     # zeroes the gradient buffers of all parameters\n",
        "\n",
        "print('conv1.bias.grad before backward')\n",
        "print(net.conv1.bias.grad)\n",
        "\n",
        "loss.backward()\n",
        "\n",
        "print('conv1.bias.grad after backward')\n",
        "print(net.conv1.bias.grad)"
      ]
    },
    {
      "source": [
        "Now, we have seen how to use loss functions.\n",
        "\n",
        "**Read Later:**\n",
        "\n",
        "  The neural network package contains various modules and loss functions\n",
        "  that form the building blocks of deep neural networks. A full list with\n",
        "  documentation is [here] (https://pytorch.org/docs/nn).\n",
        "\n",
        "**The only thing left to learn is:**\n",
        "\n",
        "  - Updating the weights of the network\n",
        "\n",
        "Update the weights\n",
        "------------------\n",
        "The simplest update rule used in practice is the Stochastic Gradient\n",
        "Descent (SGD):\n",
        "\n",
        "\\begin{align}weight = weight - learningRate * gradient\\end{align}\n",
        "\n",
        "We can implement this using simple Python code:\n",
        "\n",
        "\n",
        "    learning_rate = 0.01\n",
        "    for f in net.parameters():\n",
        "        f.data.sub_(f.grad.data * learning_rate)\n",
        "\n",
        "However, as you use neural networks, you want to use various different\n",
        "update rules such as SGD, Nesterov-SGD, Adam, RMSProp, etc.\n",
        "To enable this, we built a small package: ``torch.optim`` that\n",
        "implements all these methods. Using it is very simple:"
      ],
      "cell_type": "markdown",
      "metadata": {}
    },
    {
      "cell_type": "code",
      "execution_count": 28,
      "metadata": {},
      "outputs": [],
      "source": [
        "import torch.optim as optim\n",
        "\n",
        "# create your optimizer\n",
        "optimizer = optim.SGD(net.parameters(), lr=0.01) \n",
        "\n",
        "# in your training loop:\n",
        "optimizer.zero_grad()   # zero the gradient buffers\n",
        "output = net(input)\n",
        "loss = criterion(output, target)\n",
        "loss.backward()\n",
        "optimizer.step()    # Does the update"
      ]
    },
    {
      "source": [
        "You have seen how to define neural networks, compute loss and make updates to the weights of the network.\n",
        "One thing is still missing:\n",
        "\n",
        "## Input Data\n",
        "\n",
        "\n",
        "Generally, when you have to deal with image, text, audio or video data,\n",
        "you can use standard python packages that load data into a numpy array.\n",
        "Then you can convert this array into a ``torch.*Tensor``.\n",
        "\n",
        "-  For images, packages such as Pillow, OpenCV are useful\n",
        "-  For audio, packages such as scipy and librosa\n",
        "-  For text, either raw Python or Cython based loading, or NLTK and\n",
        "   SpaCy are useful\n",
        "\n",
        "Specifically for vision, we have created a package called\n",
        "``torchvision``, that has data loaders for common datasets such as\n",
        "Imagenet, CIFAR10, MNIST, etc. and data transformers for images, viz.,\n",
        "``torchvision.datasets`` and ``torch.utils.data.DataLoader``.\n",
        "\n",
        "This provides a huge convenience and avoids writing boilerplate code.\n",
        "\n",
        "For this tutorial, we will use the CIFAR10 dataset.\n",
        "It has the classes: ‘airplane’, ‘automobile’, ‘bird’, ‘cat’, ‘deer’,\n",
        "‘dog’, ‘frog’, ‘horse’, ‘ship’, ‘truck’. The images in CIFAR-10 are of\n",
        "size 3x32x32, i.e. 3-channel color images of 32x32 pixels in size.\n",
        "\n",
        "This is it. You are finally ready to:"
      ],
      "cell_type": "markdown",
      "metadata": {}
    },
    {
      "source": [
        "# 4. Train a Classifier!\n",
        "____________________________________________________________________________________________________\n",
        "We will do the following steps in order:\n",
        "\n",
        "a. Load and normalizing the CIFAR10 training and test datasets using\n",
        "   ``torchvision``\n",
        "\n",
        "b. Define a Convolutional Neural Network\n",
        "\n",
        "c. Define a loss function\n",
        "\n",
        "d. Train the network on the training data\n",
        "\n",
        "e. Test the network on the test data\n",
        "\n",
        "\n",
        "## a. Loading and normalizing CIFAR10\n",
        "\n",
        "\n",
        "Using ``torchvision``, it’s extremely easy to load CIFAR10.\n",
        "\n"
      ],
      "cell_type": "markdown",
      "metadata": {}
    },
    {
      "cell_type": "code",
      "execution_count": 29,
      "metadata": {},
      "outputs": [],
      "source": [
        "import torch\n",
        "import torchvision\n",
        "import torchvision.transforms as transforms"
      ]
    },
    {
      "source": [
        "The output of torchvision datasets are PILImage images of range `[0, 1]`.\n",
        "We transform them to Tensors of normalized range `[-1, 1]`.\n"
      ],
      "cell_type": "markdown",
      "metadata": {}
    },
    {
      "cell_type": "code",
      "execution_count": 30,
      "metadata": {},
      "outputs": [
        {
          "output_type": "stream",
          "name": "stdout",
          "text": [
            "Files already downloaded and verified\n",
            "Files already downloaded and verified\n"
          ]
        }
      ],
      "source": [
        "transform = transforms.Compose(\n",
        "    [transforms.ToTensor(),\n",
        "     transforms.Normalize((0.5, 0.5, 0.5), (0.5, 0.5, 0.5))])\n",
        "\n",
        "trainset = torchvision.datasets.CIFAR10(root='./data', train=True,\n",
        "                                        download=True, transform=transform)\n",
        "trainloader = torch.utils.data.DataLoader(trainset, batch_size=4,\n",
        "                                          shuffle=True, num_workers=2)\n",
        "\n",
        "testset = torchvision.datasets.CIFAR10(root='./data', train=False,\n",
        "                                       download=True, transform=transform)\n",
        "testloader = torch.utils.data.DataLoader(testset, batch_size=4,\n",
        "                                         shuffle=False, num_workers=2)\n",
        "\n",
        "classes = ('plane', 'car', 'bird', 'cat',\n",
        "           'deer', 'dog', 'frog', 'horse', 'ship', 'truck')"
      ]
    },
    {
      "source": [
        "### NOTE:\n",
        "If running on Windows you get a BrokenPipeError, try setting\n",
        "    the num_worker of `torch.utils.data.DataLoader()` to 0.\n",
        "    _______________________________________________________________________\n",
        "\n",
        "Let us show some of the training images, for fun.\n"
      ],
      "cell_type": "markdown",
      "metadata": {}
    },
    {
      "cell_type": "code",
      "execution_count": 31,
      "metadata": {},
      "outputs": [
        {
          "output_type": "stream",
          "name": "stdout",
          "text": [
            "batch size: 4\ncolor channels : 3\nImage size:32x32\n"
          ]
        },
        {
          "output_type": "display_data",
          "data": {
            "text/plain": "<Figure size 432x288 with 1 Axes>",
            "image/svg+xml": "<?xml version=\"1.0\" encoding=\"utf-8\" standalone=\"no\"?>\n<!DOCTYPE svg PUBLIC \"-//W3C//DTD SVG 1.1//EN\"\n  \"http://www.w3.org/Graphics/SVG/1.1/DTD/svg11.dtd\">\n<!-- Created with matplotlib (https://matplotlib.org/) -->\n<svg height=\"121.003431pt\" version=\"1.1\" viewBox=\"0 0 368.925 121.003431\" width=\"368.925pt\" xmlns=\"http://www.w3.org/2000/svg\" xmlns:xlink=\"http://www.w3.org/1999/xlink\">\n <defs>\n  <style type=\"text/css\">\n*{stroke-linecap:butt;stroke-linejoin:round;}\n  </style>\n </defs>\n <g id=\"figure_1\">\n  <g id=\"patch_1\">\n   <path d=\"M -0 121.003431 \nL 368.925 121.003431 \nL 368.925 0 \nL -0 0 \nz\n\" style=\"fill:none;\"/>\n  </g>\n  <g id=\"axes_1\">\n   <g id=\"patch_2\">\n    <path d=\"M 26.925 97.125306 \nL 361.725 97.125306 \nL 361.725 9.786175 \nL 26.925 9.786175 \nz\n\" style=\"fill:#ffffff;\"/>\n   </g>\n   <g clip-path=\"url(#pca08dc0012)\">\n    <image height=\"88\" id=\"image0d6f2575a2\" transform=\"scale(1 -1)translate(0 -88)\" width=\"335\" x=\"26.925\" xlink:href=\"data:image/png;base64,\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\" y=\"-9.125306\"/>\n   </g>\n   <g id=\"matplotlib.axis_1\">\n    <g id=\"xtick_1\">\n     <g id=\"line2d_1\">\n      <defs>\n       <path d=\"M 0 0 \nL 0 3.5 \n\" id=\"m596579bbca\" style=\"stroke:#000000;stroke-width:0.8;\"/>\n      </defs>\n      <g>\n       <use style=\"stroke:#000000;stroke-width:0.8;\" x=\"28.138043\" xlink:href=\"#m596579bbca\" y=\"97.125306\"/>\n      </g>\n     </g>\n     <g id=\"text_1\">\n      <!-- 0 -->\n      <defs>\n       <path d=\"M 31.78125 66.40625 \nQ 24.171875 66.40625 20.328125 58.90625 \nQ 16.5 51.421875 16.5 36.375 \nQ 16.5 21.390625 20.328125 13.890625 \nQ 24.171875 6.390625 31.78125 6.390625 \nQ 39.453125 6.390625 43.28125 13.890625 \nQ 47.125 21.390625 47.125 36.375 \nQ 47.125 51.421875 43.28125 58.90625 \nQ 39.453125 66.40625 31.78125 66.40625 \nz\nM 31.78125 74.21875 \nQ 44.046875 74.21875 50.515625 64.515625 \nQ 56.984375 54.828125 56.984375 36.375 \nQ 56.984375 17.96875 50.515625 8.265625 \nQ 44.046875 -1.421875 31.78125 -1.421875 \nQ 19.53125 -1.421875 13.0625 8.265625 \nQ 6.59375 17.96875 6.59375 36.375 \nQ 6.59375 54.828125 13.0625 64.515625 \nQ 19.53125 74.21875 31.78125 74.21875 \nz\n\" id=\"DejaVuSans-48\"/>\n      </defs>\n      <g transform=\"translate(24.956793 111.723743)scale(0.1 -0.1)\">\n       <use xlink:href=\"#DejaVuSans-48\"/>\n      </g>\n     </g>\n    </g>\n    <g id=\"xtick_2\">\n     <g id=\"line2d_2\">\n      <g>\n       <use style=\"stroke:#000000;stroke-width:0.8;\" x=\"76.659783\" xlink:href=\"#m596579bbca\" y=\"97.125306\"/>\n      </g>\n     </g>\n     <g id=\"text_2\">\n      <!-- 20 -->\n      <defs>\n       <path d=\"M 19.1875 8.296875 \nL 53.609375 8.296875 \nL 53.609375 0 \nL 7.328125 0 \nL 7.328125 8.296875 \nQ 12.9375 14.109375 22.625 23.890625 \nQ 32.328125 33.6875 34.8125 36.53125 \nQ 39.546875 41.84375 41.421875 45.53125 \nQ 43.3125 49.21875 43.3125 52.78125 \nQ 43.3125 58.59375 39.234375 62.25 \nQ 35.15625 65.921875 28.609375 65.921875 \nQ 23.96875 65.921875 18.8125 64.3125 \nQ 13.671875 62.703125 7.8125 59.421875 \nL 7.8125 69.390625 \nQ 13.765625 71.78125 18.9375 73 \nQ 24.125 74.21875 28.421875 74.21875 \nQ 39.75 74.21875 46.484375 68.546875 \nQ 53.21875 62.890625 53.21875 53.421875 \nQ 53.21875 48.921875 51.53125 44.890625 \nQ 49.859375 40.875 45.40625 35.40625 \nQ 44.1875 33.984375 37.640625 27.21875 \nQ 31.109375 20.453125 19.1875 8.296875 \nz\n\" id=\"DejaVuSans-50\"/>\n      </defs>\n      <g transform=\"translate(70.297283 111.723743)scale(0.1 -0.1)\">\n       <use xlink:href=\"#DejaVuSans-50\"/>\n       <use x=\"63.623047\" xlink:href=\"#DejaVuSans-48\"/>\n      </g>\n     </g>\n    </g>\n    <g id=\"xtick_3\">\n     <g id=\"line2d_3\">\n      <g>\n       <use style=\"stroke:#000000;stroke-width:0.8;\" x=\"125.181522\" xlink:href=\"#m596579bbca\" y=\"97.125306\"/>\n      </g>\n     </g>\n     <g id=\"text_3\">\n      <!-- 40 -->\n      <defs>\n       <path d=\"M 37.796875 64.3125 \nL 12.890625 25.390625 \nL 37.796875 25.390625 \nz\nM 35.203125 72.90625 \nL 47.609375 72.90625 \nL 47.609375 25.390625 \nL 58.015625 25.390625 \nL 58.015625 17.1875 \nL 47.609375 17.1875 \nL 47.609375 0 \nL 37.796875 0 \nL 37.796875 17.1875 \nL 4.890625 17.1875 \nL 4.890625 26.703125 \nz\n\" id=\"DejaVuSans-52\"/>\n      </defs>\n      <g transform=\"translate(118.819022 111.723743)scale(0.1 -0.1)\">\n       <use xlink:href=\"#DejaVuSans-52\"/>\n       <use x=\"63.623047\" xlink:href=\"#DejaVuSans-48\"/>\n      </g>\n     </g>\n    </g>\n    <g id=\"xtick_4\">\n     <g id=\"line2d_4\">\n      <g>\n       <use style=\"stroke:#000000;stroke-width:0.8;\" x=\"173.703261\" xlink:href=\"#m596579bbca\" y=\"97.125306\"/>\n      </g>\n     </g>\n     <g id=\"text_4\">\n      <!-- 60 -->\n      <defs>\n       <path d=\"M 33.015625 40.375 \nQ 26.375 40.375 22.484375 35.828125 \nQ 18.609375 31.296875 18.609375 23.390625 \nQ 18.609375 15.53125 22.484375 10.953125 \nQ 26.375 6.390625 33.015625 6.390625 \nQ 39.65625 6.390625 43.53125 10.953125 \nQ 47.40625 15.53125 47.40625 23.390625 \nQ 47.40625 31.296875 43.53125 35.828125 \nQ 39.65625 40.375 33.015625 40.375 \nz\nM 52.59375 71.296875 \nL 52.59375 62.3125 \nQ 48.875 64.0625 45.09375 64.984375 \nQ 41.3125 65.921875 37.59375 65.921875 \nQ 27.828125 65.921875 22.671875 59.328125 \nQ 17.53125 52.734375 16.796875 39.40625 \nQ 19.671875 43.65625 24.015625 45.921875 \nQ 28.375 48.1875 33.59375 48.1875 \nQ 44.578125 48.1875 50.953125 41.515625 \nQ 57.328125 34.859375 57.328125 23.390625 \nQ 57.328125 12.15625 50.6875 5.359375 \nQ 44.046875 -1.421875 33.015625 -1.421875 \nQ 20.359375 -1.421875 13.671875 8.265625 \nQ 6.984375 17.96875 6.984375 36.375 \nQ 6.984375 53.65625 15.1875 63.9375 \nQ 23.390625 74.21875 37.203125 74.21875 \nQ 40.921875 74.21875 44.703125 73.484375 \nQ 48.484375 72.75 52.59375 71.296875 \nz\n\" id=\"DejaVuSans-54\"/>\n      </defs>\n      <g transform=\"translate(167.340761 111.723743)scale(0.1 -0.1)\">\n       <use xlink:href=\"#DejaVuSans-54\"/>\n       <use x=\"63.623047\" xlink:href=\"#DejaVuSans-48\"/>\n      </g>\n     </g>\n    </g>\n    <g id=\"xtick_5\">\n     <g id=\"line2d_5\">\n      <g>\n       <use style=\"stroke:#000000;stroke-width:0.8;\" x=\"222.225\" xlink:href=\"#m596579bbca\" y=\"97.125306\"/>\n      </g>\n     </g>\n     <g id=\"text_5\">\n      <!-- 80 -->\n      <defs>\n       <path d=\"M 31.78125 34.625 \nQ 24.75 34.625 20.71875 30.859375 \nQ 16.703125 27.09375 16.703125 20.515625 \nQ 16.703125 13.921875 20.71875 10.15625 \nQ 24.75 6.390625 31.78125 6.390625 \nQ 38.8125 6.390625 42.859375 10.171875 \nQ 46.921875 13.96875 46.921875 20.515625 \nQ 46.921875 27.09375 42.890625 30.859375 \nQ 38.875 34.625 31.78125 34.625 \nz\nM 21.921875 38.8125 \nQ 15.578125 40.375 12.03125 44.71875 \nQ 8.5 49.078125 8.5 55.328125 \nQ 8.5 64.0625 14.71875 69.140625 \nQ 20.953125 74.21875 31.78125 74.21875 \nQ 42.671875 74.21875 48.875 69.140625 \nQ 55.078125 64.0625 55.078125 55.328125 \nQ 55.078125 49.078125 51.53125 44.71875 \nQ 48 40.375 41.703125 38.8125 \nQ 48.828125 37.15625 52.796875 32.3125 \nQ 56.78125 27.484375 56.78125 20.515625 \nQ 56.78125 9.90625 50.3125 4.234375 \nQ 43.84375 -1.421875 31.78125 -1.421875 \nQ 19.734375 -1.421875 13.25 4.234375 \nQ 6.78125 9.90625 6.78125 20.515625 \nQ 6.78125 27.484375 10.78125 32.3125 \nQ 14.796875 37.15625 21.921875 38.8125 \nz\nM 18.3125 54.390625 \nQ 18.3125 48.734375 21.84375 45.5625 \nQ 25.390625 42.390625 31.78125 42.390625 \nQ 38.140625 42.390625 41.71875 45.5625 \nQ 45.3125 48.734375 45.3125 54.390625 \nQ 45.3125 60.0625 41.71875 63.234375 \nQ 38.140625 66.40625 31.78125 66.40625 \nQ 25.390625 66.40625 21.84375 63.234375 \nQ 18.3125 60.0625 18.3125 54.390625 \nz\n\" id=\"DejaVuSans-56\"/>\n      </defs>\n      <g transform=\"translate(215.8625 111.723743)scale(0.1 -0.1)\">\n       <use xlink:href=\"#DejaVuSans-56\"/>\n       <use x=\"63.623047\" xlink:href=\"#DejaVuSans-48\"/>\n      </g>\n     </g>\n    </g>\n    <g id=\"xtick_6\">\n     <g id=\"line2d_6\">\n      <g>\n       <use style=\"stroke:#000000;stroke-width:0.8;\" x=\"270.746739\" xlink:href=\"#m596579bbca\" y=\"97.125306\"/>\n      </g>\n     </g>\n     <g id=\"text_6\">\n      <!-- 100 -->\n      <defs>\n       <path d=\"M 12.40625 8.296875 \nL 28.515625 8.296875 \nL 28.515625 63.921875 \nL 10.984375 60.40625 \nL 10.984375 69.390625 \nL 28.421875 72.90625 \nL 38.28125 72.90625 \nL 38.28125 8.296875 \nL 54.390625 8.296875 \nL 54.390625 0 \nL 12.40625 0 \nz\n\" id=\"DejaVuSans-49\"/>\n      </defs>\n      <g transform=\"translate(261.202989 111.723743)scale(0.1 -0.1)\">\n       <use xlink:href=\"#DejaVuSans-49\"/>\n       <use x=\"63.623047\" xlink:href=\"#DejaVuSans-48\"/>\n       <use x=\"127.246094\" xlink:href=\"#DejaVuSans-48\"/>\n      </g>\n     </g>\n    </g>\n    <g id=\"xtick_7\">\n     <g id=\"line2d_7\">\n      <g>\n       <use style=\"stroke:#000000;stroke-width:0.8;\" x=\"319.268478\" xlink:href=\"#m596579bbca\" y=\"97.125306\"/>\n      </g>\n     </g>\n     <g id=\"text_7\">\n      <!-- 120 -->\n      <g transform=\"translate(309.724728 111.723743)scale(0.1 -0.1)\">\n       <use xlink:href=\"#DejaVuSans-49\"/>\n       <use x=\"63.623047\" xlink:href=\"#DejaVuSans-50\"/>\n       <use x=\"127.246094\" xlink:href=\"#DejaVuSans-48\"/>\n      </g>\n     </g>\n    </g>\n   </g>\n   <g id=\"matplotlib.axis_2\">\n    <g id=\"ytick_1\">\n     <g id=\"line2d_8\">\n      <defs>\n       <path d=\"M 0 0 \nL -3.5 0 \n\" id=\"mceda5ae897\" style=\"stroke:#000000;stroke-width:0.8;\"/>\n      </defs>\n      <g>\n       <use style=\"stroke:#000000;stroke-width:0.8;\" x=\"26.925\" xlink:href=\"#mceda5ae897\" y=\"10.999219\"/>\n      </g>\n     </g>\n     <g id=\"text_8\">\n      <!-- 0 -->\n      <g transform=\"translate(13.5625 14.798437)scale(0.1 -0.1)\">\n       <use xlink:href=\"#DejaVuSans-48\"/>\n      </g>\n     </g>\n    </g>\n    <g id=\"ytick_2\">\n     <g id=\"line2d_9\">\n      <g>\n       <use style=\"stroke:#000000;stroke-width:0.8;\" x=\"26.925\" xlink:href=\"#mceda5ae897\" y=\"35.260088\"/>\n      </g>\n     </g>\n     <g id=\"text_9\">\n      <!-- 10 -->\n      <g transform=\"translate(7.2 39.059307)scale(0.1 -0.1)\">\n       <use xlink:href=\"#DejaVuSans-49\"/>\n       <use x=\"63.623047\" xlink:href=\"#DejaVuSans-48\"/>\n      </g>\n     </g>\n    </g>\n    <g id=\"ytick_3\">\n     <g id=\"line2d_10\">\n      <g>\n       <use style=\"stroke:#000000;stroke-width:0.8;\" x=\"26.925\" xlink:href=\"#mceda5ae897\" y=\"59.520958\"/>\n      </g>\n     </g>\n     <g id=\"text_10\">\n      <!-- 20 -->\n      <g transform=\"translate(7.2 63.320177)scale(0.1 -0.1)\">\n       <use xlink:href=\"#DejaVuSans-50\"/>\n       <use x=\"63.623047\" xlink:href=\"#DejaVuSans-48\"/>\n      </g>\n     </g>\n    </g>\n    <g id=\"ytick_4\">\n     <g id=\"line2d_11\">\n      <g>\n       <use style=\"stroke:#000000;stroke-width:0.8;\" x=\"26.925\" xlink:href=\"#mceda5ae897\" y=\"83.781827\"/>\n      </g>\n     </g>\n     <g id=\"text_11\">\n      <!-- 30 -->\n      <defs>\n       <path d=\"M 40.578125 39.3125 \nQ 47.65625 37.796875 51.625 33 \nQ 55.609375 28.21875 55.609375 21.1875 \nQ 55.609375 10.40625 48.1875 4.484375 \nQ 40.765625 -1.421875 27.09375 -1.421875 \nQ 22.515625 -1.421875 17.65625 -0.515625 \nQ 12.796875 0.390625 7.625 2.203125 \nL 7.625 11.71875 \nQ 11.71875 9.328125 16.59375 8.109375 \nQ 21.484375 6.890625 26.8125 6.890625 \nQ 36.078125 6.890625 40.9375 10.546875 \nQ 45.796875 14.203125 45.796875 21.1875 \nQ 45.796875 27.640625 41.28125 31.265625 \nQ 36.765625 34.90625 28.71875 34.90625 \nL 20.21875 34.90625 \nL 20.21875 43.015625 \nL 29.109375 43.015625 \nQ 36.375 43.015625 40.234375 45.921875 \nQ 44.09375 48.828125 44.09375 54.296875 \nQ 44.09375 59.90625 40.109375 62.90625 \nQ 36.140625 65.921875 28.71875 65.921875 \nQ 24.65625 65.921875 20.015625 65.03125 \nQ 15.375 64.15625 9.8125 62.3125 \nL 9.8125 71.09375 \nQ 15.4375 72.65625 20.34375 73.4375 \nQ 25.25 74.21875 29.59375 74.21875 \nQ 40.828125 74.21875 47.359375 69.109375 \nQ 53.90625 64.015625 53.90625 55.328125 \nQ 53.90625 49.265625 50.4375 45.09375 \nQ 46.96875 40.921875 40.578125 39.3125 \nz\n\" id=\"DejaVuSans-51\"/>\n      </defs>\n      <g transform=\"translate(7.2 87.581046)scale(0.1 -0.1)\">\n       <use xlink:href=\"#DejaVuSans-51\"/>\n       <use x=\"63.623047\" xlink:href=\"#DejaVuSans-48\"/>\n      </g>\n     </g>\n    </g>\n   </g>\n   <g id=\"patch_3\">\n    <path d=\"M 26.925 97.125306 \nL 26.925 9.786175 \n\" style=\"fill:none;stroke:#000000;stroke-linecap:square;stroke-linejoin:miter;stroke-width:0.8;\"/>\n   </g>\n   <g id=\"patch_4\">\n    <path d=\"M 361.725 97.125306 \nL 361.725 9.786175 \n\" style=\"fill:none;stroke:#000000;stroke-linecap:square;stroke-linejoin:miter;stroke-width:0.8;\"/>\n   </g>\n   <g id=\"patch_5\">\n    <path d=\"M 26.925 97.125306 \nL 361.725 97.125306 \n\" style=\"fill:none;stroke:#000000;stroke-linecap:square;stroke-linejoin:miter;stroke-width:0.8;\"/>\n   </g>\n   <g id=\"patch_6\">\n    <path d=\"M 26.925 9.786175 \nL 361.725 9.786175 \n\" style=\"fill:none;stroke:#000000;stroke-linecap:square;stroke-linejoin:miter;stroke-width:0.8;\"/>\n   </g>\n  </g>\n </g>\n <defs>\n  <clipPath id=\"pca08dc0012\">\n   <rect height=\"87.33913\" width=\"334.8\" x=\"26.925\" y=\"9.786175\"/>\n  </clipPath>\n </defs>\n</svg>\n",
            "image/png": "[encoded data removed]"
          },
          "metadata": {
            "needs_background": "light"
          }
        },
        {
          "output_type": "stream",
          "name": "stdout",
          "text": [
            "  dog\t  ship\t horse\t   dog\t\n"
          ]
        }
      ],
      "source": [
        "import matplotlib.pyplot as plt\n",
        "import numpy as np\n",
        "\n",
        "# functions to show an image\n",
        "\n",
        "\n",
        "def imshow(img):\n",
        "    img = img / 2 + 0.5     # unnormalize\n",
        "    npimg = img.numpy()\n",
        "    plt.imshow(np.transpose(npimg, (1, 2, 0)))\n",
        "    plt.show()\n",
        "\n",
        "\n",
        "# get some random training images and check the size\n",
        "dataiter = iter(trainloader)\n",
        "images, labels = dataiter.next()\n",
        "print('batch size:', images.size(0))\n",
        "print('color channels :', images.size(1))\n",
        "print('Image size:'+ str(images.size(2))+ 'x'+ str(images.size(3)))\n",
        "\n",
        "# show images\n",
        "imshow(torchvision.utils.make_grid(images))\n",
        "# print labels\n",
        "print(' '.join('%5s\\t' % classes[labels[j]] for j in range(4)))"
      ]
    },
    {
      "source": [
        "## b. Define a Convolutional Neural Network\n",
        "\n",
        "Copy the neural network from the Neural Networks section before and modify it to\n",
        "take 3-channel (color) images, instead of 1-channel (black and white) images as it was defined.\n",
        "\n",
        "### NOTE:\n",
        "Pay attention to the in/out features dimensions, especially at the transition between a Convolution (Conv) and Fully connected (fc) linear layer\n",
        "\n",
        "**Recap:**\n",
        "\n",
        "Formula to get the output features size `h_out` of a 2D Conv layer given `h_in` (size features input), `k` (convolutional kernel size), `p` (zero padding), and `s` (stride) (more details in [Conv2D documentation](https://pytorch.org/docs/stable/generated/torch.nn.Conv2d.html#conv2d))\n",
        "\n",
        "\\begin{align}h_{out}=\\frac{h_{in} - 2*p - k}{s} + 1 \\end{align}\n",
        "\n",
        "Remember that the feature size is divided by the MaxPool2d kernel size when passing through a 2D max pooling layer!\n",
        "\n",
        "_________________________________________________________________________________________________________________________"
      ],
      "cell_type": "markdown",
      "metadata": {}
    },
    {
      "cell_type": "code",
      "execution_count": 32,
      "metadata": {},
      "outputs": [
        {
          "output_type": "stream",
          "name": "stdout",
          "text": [
            "Net(\n  (conv1): Conv2d(3, 6, kernel_size=(5, 5), stride=(1, 1))\n  (pool): MaxPool2d(kernel_size=2, stride=2, padding=0, dilation=1, ceil_mode=False)\n  (conv2): Conv2d(6, 16, kernel_size=(5, 5), stride=(1, 1))\n  (fc1): Linear(in_features=400, out_features=120, bias=True)\n  (fc2): Linear(in_features=120, out_features=84, bias=True)\n  (fc3): Linear(in_features=84, out_features=10, bias=True)\n)\n"
          ]
        }
      ],
      "source": [
        "\n",
        "## TO BE COMPLETED !!!\n",
        "import torch.nn as nn\n",
        "import torch.nn.functional as F\n",
        "\n",
        "\n",
        "class Net(nn.Module):\n",
        "    def __init__(self):\n",
        "        super(Net, self).__init__()\n",
        "        self.conv1 = nn.Conv2d(3, 6, 5)\n",
        "        self.pool = nn.MaxPool2d(2, 2)\n",
        "        self.conv2 = nn.Conv2d(6, 16, 5)\n",
        "        self.fc1 = nn.Linear(16 * 5 * 5, 120)\n",
        "        self.fc2 = nn.Linear(120, 84)\n",
        "        self.fc3 = nn.Linear(84, 10)\n",
        "\n",
        "    def forward(self, x):\n",
        "        x = self.pool(F.relu(self.conv1(x)))\n",
        "        x = self.pool(F.relu(self.conv2(x)))\n",
        "        x = x.view(-1, 16 * 5 * 5)\n",
        "        x = F.relu(self.fc1(x))\n",
        "        x = F.relu(self.fc2(x))\n",
        "        x = self.fc3(x)\n",
        "        return x\n",
        "\n",
        "\n",
        "net = Net()\n",
        "print(net)"
      ]
    },
    {
      "source": [
        "## c. Define a Loss function and optimizer\n",
        "\n",
        "Let's use a Classification Cross-Entropy loss and SGD with momentum.\n"
      ],
      "cell_type": "markdown",
      "metadata": {}
    },
    {
      "cell_type": "code",
      "execution_count": 33,
      "metadata": {},
      "outputs": [],
      "source": [
        "# TO BE COMPLETED\n",
        "import torch.optim as optim\n",
        "\n",
        "criterion = nn.CrossEntropyLoss()\n",
        "optimizer = optim.SGD(net.parameters(), lr=0.001, momentum=0.9)"
      ]
    },
    {
      "source": [
        "## d. Train the network\n",
        "\n",
        "This is when things start to get interesting.\n",
        "We simply have to loop over our data iterator, and feed the inputs to the\n",
        "network and optimize. In this tutorial we will consider a small number of iterations over the dataset `n_epochs` \n"
      ],
      "cell_type": "markdown",
      "metadata": {}
    },
    {
      "cell_type": "code",
      "execution_count": 34,
      "metadata": {},
      "outputs": [
        {
          "output_type": "stream",
          "name": "stdout",
          "text": [
            "[1,  2000] loss: 2.196\n",
            "[1,  4000] loss: 1.862\n",
            "[1,  6000] loss: 1.688\n",
            "[1,  8000] loss: 1.569\n",
            "[1, 10000] loss: 1.518\n",
            "[1, 12000] loss: 1.471\n",
            "[2,  2000] loss: 1.376\n",
            "[2,  4000] loss: 1.365\n",
            "[2,  6000] loss: 1.322\n",
            "[2,  8000] loss: 1.320\n",
            "[2, 10000] loss: 1.292\n",
            "[2, 12000] loss: 1.247\n",
            "Finished Training\n"
          ]
        }
      ],
      "source": [
        "n_epochs=2\n",
        "\n",
        "for epoch in range(n_epochs):  # loop over the dataset multiple times\n",
        "\n",
        "    running_loss = 0.0\n",
        "    for i, data in enumerate(trainloader, 0):\n",
        "        # get the inputs; data is a list of [inputs, labels]\n",
        "        inputs, labels = data\n",
        "\n",
        "        # zero the parameter gradients\n",
        "        optimizer.zero_grad()\n",
        "\n",
        "        # forward + backward + optimize\n",
        "        outputs = net(inputs)\n",
        "        loss = criterion(outputs, labels)\n",
        "        loss.backward()\n",
        "        optimizer.step()\n",
        "\n",
        "        # print statistics\n",
        "        running_loss += loss.item()\n",
        "        if i % 2000 == 1999:    # print every 2000 mini-batches\n",
        "            print('[%d, %5d] loss: %.3f' %\n",
        "                  (epoch + 1, i + 1, running_loss / 2000))\n",
        "            running_loss = 0.0\n",
        "\n",
        "print('Finished Training')"
      ]
    },
    {
      "source": [
        "Let's quickly save our trained model (see [here] (https://pytorch.org/docs/stable/notes/serialization.html) for more details on saving PyTorch models)."
      ],
      "cell_type": "markdown",
      "metadata": {}
    },
    {
      "cell_type": "code",
      "execution_count": 35,
      "metadata": {},
      "outputs": [],
      "source": [
        "PATH = './cifar_net.pth'\n",
        "torch.save(net.state_dict(), PATH)"
      ]
    },
    {
      "source": [
        "## e. Test the network on the test data\n",
        "\n",
        "\n",
        "We have trained the network for `n_epochs` passes over the training dataset.\n",
        "But we need to check if the network has learnt anything at all.\n",
        "\n",
        "We will check this by predicting the class label that the neural network\n",
        "outputs, and checking it against the ground-truth. If the prediction is\n",
        "correct, we add the sample to the list of correct predictions.\n",
        "\n",
        "Okay, first step. Let us display an image from the test set to get familiar.\n",
        "\n"
      ],
      "cell_type": "markdown",
      "metadata": {}
    },
    {
      "cell_type": "code",
      "execution_count": 36,
      "metadata": {},
      "outputs": [
        {
          "output_type": "display_data",
          "data": {
            "text/plain": "<Figure size 432x288 with 1 Axes>",
            "image/svg+xml": "<?xml version=\"1.0\" encoding=\"utf-8\" standalone=\"no\"?>\n<!DOCTYPE svg PUBLIC \"-//W3C//DTD SVG 1.1//EN\"\n  \"http://www.w3.org/Graphics/SVG/1.1/DTD/svg11.dtd\">\n<!-- Created with matplotlib (https://matplotlib.org/) -->\n<svg height=\"121.003431pt\" version=\"1.1\" viewBox=\"0 0 368.925 121.003431\" width=\"368.925pt\" xmlns=\"http://www.w3.org/2000/svg\" xmlns:xlink=\"http://www.w3.org/1999/xlink\">\n <defs>\n  <style type=\"text/css\">\n*{stroke-linecap:butt;stroke-linejoin:round;}\n  </style>\n </defs>\n <g id=\"figure_1\">\n  <g id=\"patch_1\">\n   <path d=\"M -0 121.003431 \nL 368.925 121.003431 \nL 368.925 0 \nL -0 0 \nz\n\" style=\"fill:none;\"/>\n  </g>\n  <g id=\"axes_1\">\n   <g id=\"patch_2\">\n    <path d=\"M 26.925 97.125306 \nL 361.725 97.125306 \nL 361.725 9.786175 \nL 26.925 9.786175 \nz\n\" style=\"fill:#ffffff;\"/>\n   </g>\n   <g clip-path=\"url(#p05ab827901)\">\n    <image height=\"88\" id=\"image6cb73e4342\" transform=\"scale(1 -1)translate(0 -88)\" width=\"335\" x=\"26.925\" xlink:href=\"data:image/png;base64,\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\" y=\"-9.125306\"/>\n   </g>\n   <g id=\"matplotlib.axis_1\">\n    <g id=\"xtick_1\">\n     <g id=\"line2d_1\">\n      <defs>\n       <path d=\"M 0 0 \nL 0 3.5 \n\" id=\"m65ed1f203e\" style=\"stroke:#000000;stroke-width:0.8;\"/>\n      </defs>\n      <g>\n       <use style=\"stroke:#000000;stroke-width:0.8;\" x=\"28.138043\" xlink:href=\"#m65ed1f203e\" y=\"97.125306\"/>\n      </g>\n     </g>\n     <g id=\"text_1\">\n      <!-- 0 -->\n      <defs>\n       <path d=\"M 31.78125 66.40625 \nQ 24.171875 66.40625 20.328125 58.90625 \nQ 16.5 51.421875 16.5 36.375 \nQ 16.5 21.390625 20.328125 13.890625 \nQ 24.171875 6.390625 31.78125 6.390625 \nQ 39.453125 6.390625 43.28125 13.890625 \nQ 47.125 21.390625 47.125 36.375 \nQ 47.125 51.421875 43.28125 58.90625 \nQ 39.453125 66.40625 31.78125 66.40625 \nz\nM 31.78125 74.21875 \nQ 44.046875 74.21875 50.515625 64.515625 \nQ 56.984375 54.828125 56.984375 36.375 \nQ 56.984375 17.96875 50.515625 8.265625 \nQ 44.046875 -1.421875 31.78125 -1.421875 \nQ 19.53125 -1.421875 13.0625 8.265625 \nQ 6.59375 17.96875 6.59375 36.375 \nQ 6.59375 54.828125 13.0625 64.515625 \nQ 19.53125 74.21875 31.78125 74.21875 \nz\n\" id=\"DejaVuSans-48\"/>\n      </defs>\n      <g transform=\"translate(24.956793 111.723743)scale(0.1 -0.1)\">\n       <use xlink:href=\"#DejaVuSans-48\"/>\n      </g>\n     </g>\n    </g>\n    <g id=\"xtick_2\">\n     <g id=\"line2d_2\">\n      <g>\n       <use style=\"stroke:#000000;stroke-width:0.8;\" x=\"76.659783\" xlink:href=\"#m65ed1f203e\" y=\"97.125306\"/>\n      </g>\n     </g>\n     <g id=\"text_2\">\n      <!-- 20 -->\n      <defs>\n       <path d=\"M 19.1875 8.296875 \nL 53.609375 8.296875 \nL 53.609375 0 \nL 7.328125 0 \nL 7.328125 8.296875 \nQ 12.9375 14.109375 22.625 23.890625 \nQ 32.328125 33.6875 34.8125 36.53125 \nQ 39.546875 41.84375 41.421875 45.53125 \nQ 43.3125 49.21875 43.3125 52.78125 \nQ 43.3125 58.59375 39.234375 62.25 \nQ 35.15625 65.921875 28.609375 65.921875 \nQ 23.96875 65.921875 18.8125 64.3125 \nQ 13.671875 62.703125 7.8125 59.421875 \nL 7.8125 69.390625 \nQ 13.765625 71.78125 18.9375 73 \nQ 24.125 74.21875 28.421875 74.21875 \nQ 39.75 74.21875 46.484375 68.546875 \nQ 53.21875 62.890625 53.21875 53.421875 \nQ 53.21875 48.921875 51.53125 44.890625 \nQ 49.859375 40.875 45.40625 35.40625 \nQ 44.1875 33.984375 37.640625 27.21875 \nQ 31.109375 20.453125 19.1875 8.296875 \nz\n\" id=\"DejaVuSans-50\"/>\n      </defs>\n      <g transform=\"translate(70.297283 111.723743)scale(0.1 -0.1)\">\n       <use xlink:href=\"#DejaVuSans-50\"/>\n       <use x=\"63.623047\" xlink:href=\"#DejaVuSans-48\"/>\n      </g>\n     </g>\n    </g>\n    <g id=\"xtick_3\">\n     <g id=\"line2d_3\">\n      <g>\n       <use style=\"stroke:#000000;stroke-width:0.8;\" x=\"125.181522\" xlink:href=\"#m65ed1f203e\" y=\"97.125306\"/>\n      </g>\n     </g>\n     <g id=\"text_3\">\n      <!-- 40 -->\n      <defs>\n       <path d=\"M 37.796875 64.3125 \nL 12.890625 25.390625 \nL 37.796875 25.390625 \nz\nM 35.203125 72.90625 \nL 47.609375 72.90625 \nL 47.609375 25.390625 \nL 58.015625 25.390625 \nL 58.015625 17.1875 \nL 47.609375 17.1875 \nL 47.609375 0 \nL 37.796875 0 \nL 37.796875 17.1875 \nL 4.890625 17.1875 \nL 4.890625 26.703125 \nz\n\" id=\"DejaVuSans-52\"/>\n      </defs>\n      <g transform=\"translate(118.819022 111.723743)scale(0.1 -0.1)\">\n       <use xlink:href=\"#DejaVuSans-52\"/>\n       <use x=\"63.623047\" xlink:href=\"#DejaVuSans-48\"/>\n      </g>\n     </g>\n    </g>\n    <g id=\"xtick_4\">\n     <g id=\"line2d_4\">\n      <g>\n       <use style=\"stroke:#000000;stroke-width:0.8;\" x=\"173.703261\" xlink:href=\"#m65ed1f203e\" y=\"97.125306\"/>\n      </g>\n     </g>\n     <g id=\"text_4\">\n      <!-- 60 -->\n      <defs>\n       <path d=\"M 33.015625 40.375 \nQ 26.375 40.375 22.484375 35.828125 \nQ 18.609375 31.296875 18.609375 23.390625 \nQ 18.609375 15.53125 22.484375 10.953125 \nQ 26.375 6.390625 33.015625 6.390625 \nQ 39.65625 6.390625 43.53125 10.953125 \nQ 47.40625 15.53125 47.40625 23.390625 \nQ 47.40625 31.296875 43.53125 35.828125 \nQ 39.65625 40.375 33.015625 40.375 \nz\nM 52.59375 71.296875 \nL 52.59375 62.3125 \nQ 48.875 64.0625 45.09375 64.984375 \nQ 41.3125 65.921875 37.59375 65.921875 \nQ 27.828125 65.921875 22.671875 59.328125 \nQ 17.53125 52.734375 16.796875 39.40625 \nQ 19.671875 43.65625 24.015625 45.921875 \nQ 28.375 48.1875 33.59375 48.1875 \nQ 44.578125 48.1875 50.953125 41.515625 \nQ 57.328125 34.859375 57.328125 23.390625 \nQ 57.328125 12.15625 50.6875 5.359375 \nQ 44.046875 -1.421875 33.015625 -1.421875 \nQ 20.359375 -1.421875 13.671875 8.265625 \nQ 6.984375 17.96875 6.984375 36.375 \nQ 6.984375 53.65625 15.1875 63.9375 \nQ 23.390625 74.21875 37.203125 74.21875 \nQ 40.921875 74.21875 44.703125 73.484375 \nQ 48.484375 72.75 52.59375 71.296875 \nz\n\" id=\"DejaVuSans-54\"/>\n      </defs>\n      <g transform=\"translate(167.340761 111.723743)scale(0.1 -0.1)\">\n       <use xlink:href=\"#DejaVuSans-54\"/>\n       <use x=\"63.623047\" xlink:href=\"#DejaVuSans-48\"/>\n      </g>\n     </g>\n    </g>\n    <g id=\"xtick_5\">\n     <g id=\"line2d_5\">\n      <g>\n       <use style=\"stroke:#000000;stroke-width:0.8;\" x=\"222.225\" xlink:href=\"#m65ed1f203e\" y=\"97.125306\"/>\n      </g>\n     </g>\n     <g id=\"text_5\">\n      <!-- 80 -->\n      <defs>\n       <path d=\"M 31.78125 34.625 \nQ 24.75 34.625 20.71875 30.859375 \nQ 16.703125 27.09375 16.703125 20.515625 \nQ 16.703125 13.921875 20.71875 10.15625 \nQ 24.75 6.390625 31.78125 6.390625 \nQ 38.8125 6.390625 42.859375 10.171875 \nQ 46.921875 13.96875 46.921875 20.515625 \nQ 46.921875 27.09375 42.890625 30.859375 \nQ 38.875 34.625 31.78125 34.625 \nz\nM 21.921875 38.8125 \nQ 15.578125 40.375 12.03125 44.71875 \nQ 8.5 49.078125 8.5 55.328125 \nQ 8.5 64.0625 14.71875 69.140625 \nQ 20.953125 74.21875 31.78125 74.21875 \nQ 42.671875 74.21875 48.875 69.140625 \nQ 55.078125 64.0625 55.078125 55.328125 \nQ 55.078125 49.078125 51.53125 44.71875 \nQ 48 40.375 41.703125 38.8125 \nQ 48.828125 37.15625 52.796875 32.3125 \nQ 56.78125 27.484375 56.78125 20.515625 \nQ 56.78125 9.90625 50.3125 4.234375 \nQ 43.84375 -1.421875 31.78125 -1.421875 \nQ 19.734375 -1.421875 13.25 4.234375 \nQ 6.78125 9.90625 6.78125 20.515625 \nQ 6.78125 27.484375 10.78125 32.3125 \nQ 14.796875 37.15625 21.921875 38.8125 \nz\nM 18.3125 54.390625 \nQ 18.3125 48.734375 21.84375 45.5625 \nQ 25.390625 42.390625 31.78125 42.390625 \nQ 38.140625 42.390625 41.71875 45.5625 \nQ 45.3125 48.734375 45.3125 54.390625 \nQ 45.3125 60.0625 41.71875 63.234375 \nQ 38.140625 66.40625 31.78125 66.40625 \nQ 25.390625 66.40625 21.84375 63.234375 \nQ 18.3125 60.0625 18.3125 54.390625 \nz\n\" id=\"DejaVuSans-56\"/>\n      </defs>\n      <g transform=\"translate(215.8625 111.723743)scale(0.1 -0.1)\">\n       <use xlink:href=\"#DejaVuSans-56\"/>\n       <use x=\"63.623047\" xlink:href=\"#DejaVuSans-48\"/>\n      </g>\n     </g>\n    </g>\n    <g id=\"xtick_6\">\n     <g id=\"line2d_6\">\n      <g>\n       <use style=\"stroke:#000000;stroke-width:0.8;\" x=\"270.746739\" xlink:href=\"#m65ed1f203e\" y=\"97.125306\"/>\n      </g>\n     </g>\n     <g id=\"text_6\">\n      <!-- 100 -->\n      <defs>\n       <path d=\"M 12.40625 8.296875 \nL 28.515625 8.296875 \nL 28.515625 63.921875 \nL 10.984375 60.40625 \nL 10.984375 69.390625 \nL 28.421875 72.90625 \nL 38.28125 72.90625 \nL 38.28125 8.296875 \nL 54.390625 8.296875 \nL 54.390625 0 \nL 12.40625 0 \nz\n\" id=\"DejaVuSans-49\"/>\n      </defs>\n      <g transform=\"translate(261.202989 111.723743)scale(0.1 -0.1)\">\n       <use xlink:href=\"#DejaVuSans-49\"/>\n       <use x=\"63.623047\" xlink:href=\"#DejaVuSans-48\"/>\n       <use x=\"127.246094\" xlink:href=\"#DejaVuSans-48\"/>\n      </g>\n     </g>\n    </g>\n    <g id=\"xtick_7\">\n     <g id=\"line2d_7\">\n      <g>\n       <use style=\"stroke:#000000;stroke-width:0.8;\" x=\"319.268478\" xlink:href=\"#m65ed1f203e\" y=\"97.125306\"/>\n      </g>\n     </g>\n     <g id=\"text_7\">\n      <!-- 120 -->\n      <g transform=\"translate(309.724728 111.723743)scale(0.1 -0.1)\">\n       <use xlink:href=\"#DejaVuSans-49\"/>\n       <use x=\"63.623047\" xlink:href=\"#DejaVuSans-50\"/>\n       <use x=\"127.246094\" xlink:href=\"#DejaVuSans-48\"/>\n      </g>\n     </g>\n    </g>\n   </g>\n   <g id=\"matplotlib.axis_2\">\n    <g id=\"ytick_1\">\n     <g id=\"line2d_8\">\n      <defs>\n       <path d=\"M 0 0 \nL -3.5 0 \n\" id=\"maa4dda2d07\" style=\"stroke:#000000;stroke-width:0.8;\"/>\n      </defs>\n      <g>\n       <use style=\"stroke:#000000;stroke-width:0.8;\" x=\"26.925\" xlink:href=\"#maa4dda2d07\" y=\"10.999219\"/>\n      </g>\n     </g>\n     <g id=\"text_8\">\n      <!-- 0 -->\n      <g transform=\"translate(13.5625 14.798437)scale(0.1 -0.1)\">\n       <use xlink:href=\"#DejaVuSans-48\"/>\n      </g>\n     </g>\n    </g>\n    <g id=\"ytick_2\">\n     <g id=\"line2d_9\">\n      <g>\n       <use style=\"stroke:#000000;stroke-width:0.8;\" x=\"26.925\" xlink:href=\"#maa4dda2d07\" y=\"35.260088\"/>\n      </g>\n     </g>\n     <g id=\"text_9\">\n      <!-- 10 -->\n      <g transform=\"translate(7.2 39.059307)scale(0.1 -0.1)\">\n       <use xlink:href=\"#DejaVuSans-49\"/>\n       <use x=\"63.623047\" xlink:href=\"#DejaVuSans-48\"/>\n      </g>\n     </g>\n    </g>\n    <g id=\"ytick_3\">\n     <g id=\"line2d_10\">\n      <g>\n       <use style=\"stroke:#000000;stroke-width:0.8;\" x=\"26.925\" xlink:href=\"#maa4dda2d07\" y=\"59.520958\"/>\n      </g>\n     </g>\n     <g id=\"text_10\">\n      <!-- 20 -->\n      <g transform=\"translate(7.2 63.320177)scale(0.1 -0.1)\">\n       <use xlink:href=\"#DejaVuSans-50\"/>\n       <use x=\"63.623047\" xlink:href=\"#DejaVuSans-48\"/>\n      </g>\n     </g>\n    </g>\n    <g id=\"ytick_4\">\n     <g id=\"line2d_11\">\n      <g>\n       <use style=\"stroke:#000000;stroke-width:0.8;\" x=\"26.925\" xlink:href=\"#maa4dda2d07\" y=\"83.781827\"/>\n      </g>\n     </g>\n     <g id=\"text_11\">\n      <!-- 30 -->\n      <defs>\n       <path d=\"M 40.578125 39.3125 \nQ 47.65625 37.796875 51.625 33 \nQ 55.609375 28.21875 55.609375 21.1875 \nQ 55.609375 10.40625 48.1875 4.484375 \nQ 40.765625 -1.421875 27.09375 -1.421875 \nQ 22.515625 -1.421875 17.65625 -0.515625 \nQ 12.796875 0.390625 7.625 2.203125 \nL 7.625 11.71875 \nQ 11.71875 9.328125 16.59375 8.109375 \nQ 21.484375 6.890625 26.8125 6.890625 \nQ 36.078125 6.890625 40.9375 10.546875 \nQ 45.796875 14.203125 45.796875 21.1875 \nQ 45.796875 27.640625 41.28125 31.265625 \nQ 36.765625 34.90625 28.71875 34.90625 \nL 20.21875 34.90625 \nL 20.21875 43.015625 \nL 29.109375 43.015625 \nQ 36.375 43.015625 40.234375 45.921875 \nQ 44.09375 48.828125 44.09375 54.296875 \nQ 44.09375 59.90625 40.109375 62.90625 \nQ 36.140625 65.921875 28.71875 65.921875 \nQ 24.65625 65.921875 20.015625 65.03125 \nQ 15.375 64.15625 9.8125 62.3125 \nL 9.8125 71.09375 \nQ 15.4375 72.65625 20.34375 73.4375 \nQ 25.25 74.21875 29.59375 74.21875 \nQ 40.828125 74.21875 47.359375 69.109375 \nQ 53.90625 64.015625 53.90625 55.328125 \nQ 53.90625 49.265625 50.4375 45.09375 \nQ 46.96875 40.921875 40.578125 39.3125 \nz\n\" id=\"DejaVuSans-51\"/>\n      </defs>\n      <g transform=\"translate(7.2 87.581046)scale(0.1 -0.1)\">\n       <use xlink:href=\"#DejaVuSans-51\"/>\n       <use x=\"63.623047\" xlink:href=\"#DejaVuSans-48\"/>\n      </g>\n     </g>\n    </g>\n   </g>\n   <g id=\"patch_3\">\n    <path d=\"M 26.925 97.125306 \nL 26.925 9.786175 \n\" style=\"fill:none;stroke:#000000;stroke-linecap:square;stroke-linejoin:miter;stroke-width:0.8;\"/>\n   </g>\n   <g id=\"patch_4\">\n    <path d=\"M 361.725 97.125306 \nL 361.725 9.786175 \n\" style=\"fill:none;stroke:#000000;stroke-linecap:square;stroke-linejoin:miter;stroke-width:0.8;\"/>\n   </g>\n   <g id=\"patch_5\">\n    <path d=\"M 26.925 97.125306 \nL 361.725 97.125306 \n\" style=\"fill:none;stroke:#000000;stroke-linecap:square;stroke-linejoin:miter;stroke-width:0.8;\"/>\n   </g>\n   <g id=\"patch_6\">\n    <path d=\"M 26.925 9.786175 \nL 361.725 9.786175 \n\" style=\"fill:none;stroke:#000000;stroke-linecap:square;stroke-linejoin:miter;stroke-width:0.8;\"/>\n   </g>\n  </g>\n </g>\n <defs>\n  <clipPath id=\"p05ab827901\">\n   <rect height=\"87.33913\" width=\"334.8\" x=\"26.925\" y=\"9.786175\"/>\n  </clipPath>\n </defs>\n</svg>\n",
            "image/png": "[encoded data removed]"
          },
          "metadata": {
            "needs_background": "light"
          }
        },
        {
          "output_type": "stream",
          "name": "stdout",
          "text": [
            "GroundTruth:    cat  ship  ship plane\n"
          ]
        }
      ],
      "source": [
        "dataiter = iter(testloader)\n",
        "images, labels = dataiter.next()\n",
        "\n",
        "# print images\n",
        "imshow(torchvision.utils.make_grid(images))\n",
        "print('GroundTruth: ', ' '.join('%5s' % classes[labels[j]] for j in range(4)))"
      ]
    },
    {
      "source": [
        "Next, let's load back in our saved model (note: saving and re-loading the model\n",
        "wasn't necessary here, we only did it to illustrate how to do so):\n"
      ],
      "cell_type": "markdown",
      "metadata": {}
    },
    {
      "cell_type": "code",
      "execution_count": 37,
      "metadata": {},
      "outputs": [
        {
          "output_type": "execute_result",
          "data": {
            "text/plain": [
              "<All keys matched successfully>"
            ]
          },
          "metadata": {},
          "execution_count": 37
        }
      ],
      "source": [
        "net = Net()\n",
        "net.load_state_dict(torch.load(PATH))"
      ]
    },
    {
      "source": [
        "Okay, now let us see what the neural network thinks these examples above are.\n",
        "\n",
        "The outputs are energies for the 10 classes.\n",
        "The higher the energy for a class, the more the network\n",
        "thinks that the image is of the particular class.\n",
        "So, let's get the index of the highest energy:\n"
      ],
      "cell_type": "markdown",
      "metadata": {}
    },
    {
      "cell_type": "code",
      "execution_count": 38,
      "metadata": {},
      "outputs": [
        {
          "output_type": "stream",
          "name": "stdout",
          "text": [
            "Predicted:   ship  ship  ship  ship\n"
          ]
        }
      ],
      "source": [
        "outputs = net(images)\n",
        "\n",
        "_, predicted = torch.max(outputs, 1)\n",
        "\n",
        "print('Predicted: ', ' '.join('%5s' % classes[predicted[j]]\n",
        "                              for j in range(4)))"
      ]
    },
    {
      "source": [
        "Let us look at how the network performs on the whole dataset."
      ],
      "cell_type": "markdown",
      "metadata": {}
    },
    {
      "cell_type": "code",
      "execution_count": 39,
      "metadata": {},
      "outputs": [
        {
          "output_type": "stream",
          "name": "stdout",
          "text": [
            "Accuracy of the network on the 10000 test images: 54 %\n"
          ]
        }
      ],
      "source": [
        "correct = 0\n",
        "total = 0\n",
        "with torch.no_grad():  # torch.no_grad for TESTING\n",
        "    for data in testloader:\n",
        "        images, labels = data\n",
        "        outputs = net(images)\n",
        "        _, predicted = torch.max(outputs.data, 1)\n",
        "        total += labels.size(0)\n",
        "        correct += (predicted == labels).sum().item()\n",
        "\n",
        "print('Accuracy of the network on the 10000 test images: %d %%' % (\n",
        "    100 * correct / total))"
      ]
    },
    {
      "source": [
        "That looks way better than chance, which is 10% accuracy (randomly picking\n",
        "a class out of 10 classes).\n",
        "Seems like the network learnt something.\n",
        "\n",
        "Hmmm, what are the classes that performed well, and the classes that did\n",
        "not perform well:"
      ],
      "cell_type": "markdown",
      "metadata": {}
    },
    {
      "cell_type": "code",
      "execution_count": 40,
      "metadata": {},
      "outputs": [
        {
          "output_type": "stream",
          "name": "stdout",
          "text": [
            "Accuracy of plane : 68 %\nAccuracy of   car : 65 %\nAccuracy of  bird : 36 %\nAccuracy of   cat : 50 %\nAccuracy of  deer : 46 %\nAccuracy of   dog : 46 %\nAccuracy of  frog : 49 %\nAccuracy of horse : 65 %\nAccuracy of  ship : 73 %\nAccuracy of truck : 46 %\n"
          ]
        }
      ],
      "source": [
        "class_correct = list(0. for i in range(10))\n",
        "class_total = list(0. for i in range(10))\n",
        "with torch.no_grad():\n",
        "    for data in testloader:\n",
        "        images, labels = data\n",
        "        outputs = net(images)\n",
        "        _, predicted = torch.max(outputs, 1)\n",
        "        c = (predicted == labels).squeeze()\n",
        "        for i in range(4):\n",
        "            label = labels[i]\n",
        "            class_correct[label] += c[i].item()\n",
        "            class_total[label] += 1\n",
        "\n",
        "\n",
        "for i in range(10):\n",
        "    print('Accuracy of %5s : %2d %%' % (\n",
        "        classes[i], 100 * class_correct[i] / class_total[i]))"
      ]
    },
    {
      "source": [
        "Okay, so what next?\n",
        "\n",
        "How do we run these neural networks on the GPU?\n",
        "\n",
        "### Training on GPU\n",
        "----------------\n",
        "Just like how you transfer a Tensor onto the GPU, you transfer the neural\n",
        "net onto the GPU.\n",
        "\n",
        "Let's first define our device as the first visible cuda device if we have\n",
        "CUDA available:\n"
      ],
      "cell_type": "markdown",
      "metadata": {}
    },
    {
      "cell_type": "code",
      "execution_count": 41,
      "metadata": {},
      "outputs": [
        {
          "output_type": "stream",
          "name": "stdout",
          "text": [
            "cpu\n"
          ]
        }
      ],
      "source": [
        "device = torch.device(\"cuda:0\" if torch.cuda.is_available() else \"cpu\")\n",
        "\n",
        "# Assuming that we are on a CUDA machine, this should print a CUDA device:\n",
        "\n",
        "print(device)"
      ]
    },
    {
      "source": [
        "The rest of this section assumes that ``device`` is a CUDA device.\n",
        "\n",
        "Then these methods will recursively go over all modules and convert their\n",
        "parameters and buffers to CUDA tensors:\n",
        "\n",
        ".. code:: python\n",
        "\n",
        "    net.to(device)\n",
        "\n",
        "\n",
        "Remember that you will have to send the inputs and targets at every step\n",
        "to the GPU too:\n",
        "\n",
        ".. code:: python\n",
        "\n",
        "        inputs, labels = data[0].to(device), data[1].to(device)\n",
        "\n",
        "Why dont I notice MASSIVE speedup compared to CPU? Because your network\n",
        "is really small.\n",
        "\n",
        "## This is the end of the Tutorial!\n",
        "\n",
        "**Goals achieved**:\n",
        "\n",
        "- Understanding PyTorch's Tensor library and neural networks at a high level.\n",
        "- Train a small neural network to classify images\n"
      ],
      "cell_type": "markdown",
      "metadata": {}
    }
  ],
  "metadata": {
    "kernelspec": {
      "display_name": "Python 3",
      "language": "python",
      "name": "python3"
    },
    "language_info": {
      "codemirror_mode": {
        "name": "ipython",
        "version": 3
      },
      "file_extension": ".py",
      "mimetype": "text/x-python",
      "name": "python",
      "nbconvert_exporter": "python",
      "pygments_lexer": "ipython3",
      "version": "3.7.7-final"
    }
  },
  "nbformat": 4,
  "nbformat_minor": 0
}